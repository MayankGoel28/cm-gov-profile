{
 "cells": [
  {
   "cell_type": "code",
   "execution_count": 1,
   "metadata": {},
   "outputs": [],
   "source": [
    "import pandas as pd\n",
    "import numpy as np\n",
    "from datetime import datetime\n",
    "from datetime import date\n",
    "import plotly.graph_objects as go\n",
    "import plotly.express as px\n",
    "pd.options.plotting.backend = \"plotly\"\n",
    "\n",
    "source = \"../Governors Data/governors_draft_4.csv\"\n",
    "new_source = \"../Governors Data/governors_draft_4.csv\""
   ]
  },
  {
   "cell_type": "code",
   "execution_count": 2,
   "metadata": {},
   "outputs": [],
   "source": [
    "df = pd.read_csv(source)\n",
    "df = df.replace(np.nan, '', regex=True)"
   ]
  },
  {
   "cell_type": "code",
   "execution_count": 3,
   "metadata": {},
   "outputs": [],
   "source": [
    "# print(df)"
   ]
  },
  {
   "cell_type": "code",
   "execution_count": 4,
   "metadata": {},
   "outputs": [],
   "source": [
    "def correct_duration():\n",
    "    global df\n",
    "    for index, row in df.iterrows():\n",
    "        s = row[\"appointment_begin\"].split(\"/\")\n",
    "        \n",
    "        if row[\"appointment_end\"] == \"Current\":\n",
    "            today = date.today()\n",
    "            e = today.strftime(\"%d/%m/%Y\")\n",
    "            e = e.split(\"/\")\n",
    "        else:\n",
    "            e = row[\"appointment_end\"].split(\"/\")\n",
    "            \n",
    "        \n",
    "        s=[int(i) for i in s]\n",
    "        e=[int(i) for i in e]\n",
    "        start = datetime(s[2], s[1], s[0])\n",
    "        end = datetime(e[2], e[1], e[0])\n",
    "        \n",
    "        duration = (end - start).days\n",
    "        \n",
    "        df.at[index, \"term_duration\"] = duration"
   ]
  },
  {
   "cell_type": "code",
   "execution_count": 5,
   "metadata": {},
   "outputs": [],
   "source": [
    "# correct_duration()\n",
    "# print(df)\n",
    "# df.to_csv(new_source, index=False)"
   ]
  },
  {
   "cell_type": "code",
   "execution_count": 6,
   "metadata": {},
   "outputs": [],
   "source": [
    "unique_ids = list(df[\"ID\"])\n",
    "\n",
    "unique_ids = list(np.unique(np.array(unique_ids)))"
   ]
  },
  {
   "cell_type": "code",
   "execution_count": 13,
   "metadata": {},
   "outputs": [
    {
     "name": "stdout",
     "output_type": "stream",
     "text": [
      "['ROBERT NIEL REID (Assam)', 'GILBERT PITCHIN HOGG (Assam)', 'HENRY JOSEPH TWYNAM (Assam)', 'ANDREW GOURLAY CLOW  (Assam)', 'FREDERICK CHALMERS BOURNE  (Assam)', 'HENRY FOLEY KNIGHT (Assam)', 'AKBAR HAIDARI (Assam, Meghalaya)', 'RONALD FRANCIS LODGE (Assam)', 'SAIYID FAZI ALI (Assam, Meghalaya)', 'CHANDRESWAR PRASAD SINGHA (Assam)', 'P.K. GOSWAMI (Assam)', 'T.S. MISRA (Assam)', 'ANISETTI ROGHUVIR (Assam)', 'D.D. THAKUR (Arunachal Pradesh, Assam)', 'S K SINHA (Arunachal Pradesh, Assam, Jammu & Kashmir)', 'AJAI SINGH (Assam)', 'SHIV CHARAN MATHUR (Assam)', 'JANAKI BALLAV PATNAIK (Assam)', 'JAGDISH MUKHI (Assam, Manipur, Mizoram)', 'MEHDI NAWAZ JUNG (Gujarat)', 'NITYANAND KANUNGO (Bihar, Gujarat)', 'SHRIMAN NARAYAN (Gujarat)', 'KK VISWANATHAN (Gujarat)', 'SHARDA MUKERJEE (Gujarat)', 'K.M. CHANDY (Gujarat, Madhya Pradesh, Puducherry)', 'RAM KRISHNA TRIVEDI (Gujarat)', 'MAHIPALSINGH SHASTRI (Gujarat)', 'NARESH CHANDRA SAXENA (Gujarat)', 'KRISHNA PAL SINGH (Gujarat)', 'SUNDER SINGH BHANDARI (Bihar, Gujarat)', 'KAILASHPATI MISHRA (Gujarat, Rajasthan)', 'NAWAL KISHORE SHARMA (Gujarat)', 'B.N. CHAKRABORTY (Haryana)', 'JAISUKH LAL HATHI (Haryana, Punjab)', 'HARI ANAND BARARI (Haryana)', 'DHANIKLAL MANDAL (Haryana, Rajasthan)', 'MAHABIR PRASAD (Haryana, Himachal Pradesh)', 'BABU PARMANAND (Haryana)', 'O. P. VERMA (Chandigarh, Haryana, Punjab)', 'SATYADEO NARAIN ARYA (Haryana)', 'JAYACHAMARAJENDRA WODEYER (Karnataka)', 'MANGALADAS PAKVAS (Karnataka)', 'S.M. SHRINAGESH (Andhra Pradesh, Assam, Karnataka, Meghalaya)', 'G.S.PATHAK (Karnataka)', 'SOMANATH IYER (Karnataka)', 'DHARMAVEERA (Karnataka)', 'MOHANLAL SUKHADIA (Andhra Pradesh, Karnataka, Tamil Nadu)', 'GOVINDNARAYANAN (Karnataka)', 'ASHOKNATH BANERJEE (Karnataka)', 'P.VENKATASUBBAYYA (Karnataka)', 'S.MOHAN (Karnataka)', 'BHANUPRATAP SINGH (Karnataka)', 'S.P.BARUCHA (Karnataka)', 'M.L.PENDSE (Karnataka)', 'V.S.RAMADEVI (Karnataka)', 'TRILOKI NATH CHATURVEDI (Karnataka, Kerala)', 'K. ROSAIAH (Karnataka, Tamil Nadu)', 'VAJUBHAI VALA (Karnataka)', 'P.S. RAO (Kerala)', 'VARAHGIRI VENKAT GIRI (Karnataka, Kerala, Uttar Pradesh)', 'A.P. JAIN (Kerala)', 'BHAGAVAN SAHAY (Kerala)', 'V.VISHWANATHAN (Himachal Pradesh, Kerala)', 'NIRANJAN NATH WANCHOO (Kerala, Madhya Pradesh)', 'JOTHI VENKATACHELLUM (Kerala)', 'P. RAMACHANDRAN (Kerala)', 'RAMDULARI SINHA (Kerala)', 'SARUP SINGH (Gujarat, Kerala)', 'P. SHIV SHANKAR (Kerala, Sikkim)', 'KHURSHED ALAM KHAN (Goa, Karnataka, Kerala)', 'SUKHDEV SINGH KANG (Kerala)', 'SIKANDER BAKHT (Kerala)', 'R. S. GAVAI (Bihar, Kerala)', 'M.O.H. FAROOK (Jharkhand, Kerala)', 'H.R. BHARDWAJ (Karnataka, Kerala)', 'SHEILA DIKSHIT (Kerala)', 'P. SATHASIVAM (Kerala)', 'ARIF MOHAMMED KHAN (Kerala)', 'RAJ PRAMUKH SAWAI SH. MANSINGH (Rajasthan)', 'GURUMUKH NIHAL SINGH (Rajasthan)', 'SAMPURNANAND (Rajasthan)', 'HUKUM SINGH (Rajasthan)', 'JAGAT NARAIN (Rajasthan)', 'JOGINDER SINGH (Rajasthan)', 'VEDPAL TYAGI (Rajasthan)', 'RAGHUKUL TILAK (Rajasthan)', 'K.D. SHARMA (Rajasthan)', 'P.K. BANERJEE (Rajasthan)', 'O. P. MEHRA (Maharashtra, Rajasthan)', 'D.P. GUPTA (Rajasthan)', 'VASANT RAO PATIL (Rajasthan)', 'SUKHDEV PRASAD (Rajasthan)', 'JAGDISH SHARAN VERMA (Rajasthan)', 'MILAP CHAND JAIN (Rajasthan)', 'DEVI PRASAD CHATTOPADHYAY (Rajasthan)', 'SWAROOP SINGH (Rajasthan)', 'M. CHANNA REDDY (Puducherry, Punjab, Rajasthan, Tamil Nadu, Uttar Pradesh)', 'BALIRAM BHAGAT (Rajasthan)', 'SARDAR DARBARA SINGH (Rajasthan)', 'N.L. TIBREWAL (Rajasthan)', 'ANSHUMAN SINGH (Gujarat, Rajasthan)', 'NIRMAL CHANDRA JAIN (Rajasthan)', 'MADAN LAL KHURANA (Rajasthan)', 'T.V. RAJESWAR (Rajasthan, Sikkim, Uttar Pradesh, West Bengal)', 'PRATIBHA PATIL (Rajasthan)', 'SHILENDRA KUMAR SINGH (Rajasthan)', 'RAMESHWAR THAKUR (Andhra Pradesh, Karnataka, Madhya Pradesh, Odisha, Rajasthan)', 'PRABHA RAU (Himachal Pradesh, Rajasthan)', 'RAM NAIK (Rajasthan, Uttar Pradesh)', 'KALYAN SINGH (Himachal Pradesh, Rajasthan)', 'KALRAJ MISHRA (Himachal Pradesh, Rajasthan)', 'KRISHNA KUMARSINGJI BHAVSINGJI (Tamil Nadu)', 'A.J. JOHN (Tamil Nadu)', 'BISNURAM MEDHI (Tamil Nadu)', 'JAYACHAMARAJA WADIYAR BAHADUR (Tamil Nadu)', 'SARDAR UJJAL SINGH (Punjab, Tamil Nadu)', 'K.K.SHAH (Tamil Nadu)', 'P. GOVINDAN NAIR (Tamil Nadu)', 'PRABHUDAS B.PATWARI (Tamil Nadu)', 'M.M.ISMAIL (Tamil Nadu)', 'SADIQ ALI (Maharashtra, Tamil Nadu)', 'S.L. KHURANA (Delhi, Puducherry, Tamil Nadu)', 'BHISHMA N. SINGH (Arunachal Pradesh, Assam, Meghalaya, Sikkim, Tamil Nadu)', 'KRISHAN KANT (Andhra Pradesh, Tamil Nadu)', 'M.FATHIMA BEEVI (Tamil Nadu)', 'C. RANGARAJAN (Andhra Pradesh, Kerala, Odisha, Tamil Nadu)', 'CHENNAMANENI VIDYASAGAR RAO (Maharashtra, Tamil Nadu)', 'BANWARILAL PUROHIT (Assam, Meghalaya, Tamil Nadu)', 'H.P. MODI (Uttar Pradesh)', 'KANHAIYALAL MANEKLAL MUNSHI (Uttar Pradesh)', 'B. RAMAKRISHNA RAO (Kerala, Uttar Pradesh)', 'BISHWANATH DAS (Uttar Pradesh)', 'BEZWADA GOPALA REDDY (Uttar Pradesh)', 'SHASHI KANTA VERMA (Uttar Pradesh)', 'AKBAR ALI KHAN (Odisha, Uttar Pradesh)', 'GANPATRAO DEVJI TAPASE (Haryana, Uttar Pradesh)', 'MOHAMMAD USMAN ARIF (Uttar Pradesh)', 'MOTILAL VORA (Uttar Pradesh)', 'MOHAMMAD SHAFI QURESHI (Bihar, Madhya Pradesh, Uttar Pradesh)', 'SURAJ BHAN (Himachal Pradesh, Uttar Pradesh)', 'SUDARSHAN AGARWAL (Sikkim, Uttar Pradesh, Uttarakhand)', 'ANANDIBEN PATEL (Madhya Pradesh, Uttar Pradesh)', 'RAJA MAHARAJ SINGH (Maharashtra)', 'GIRIJA SHANKAR BAJPAI (Maharashtra)', 'HARE KRISHNA MAHTAB (Maharashtra)', 'SRI PRAKASA (Assam, Maharashtra, Meghalaya, Tamil Nadu)', 'P. SUBBARAYAN (Maharashtra)', 'VIJAYALAKSHMI PANDIT (Maharashtra)', 'P. V. CHERIAN (Maharashtra)', 'ALI YAVAR JUNG (Maharashtra)', 'SHANKAR DAYAL SHARMA (Andhra Pradesh, Madhya Pradesh, Maharashtra, Punjab)', 'BRAHMANANDA REDDY (Maharashtra)', 'C. SUBRAMANIAM (Maharashtra)', 'P. C. ALEXANDER (Goa, Maharashtra, Tamil Nadu)', 'MOHAMMED FAZAL (Maharashtra)', 'S. M. KRISHNA (Maharashtra)', 'BHAGAT SINGH KOSHYARI (Goa, Maharashtra)', 'CHAKRAVARTI RAJAGOPALACHARI (West Bengal)', 'KAILASH NATH KATJU (West Bengal)', 'HARENDRA COOMAR MOOKERJEE (West Bengal)', 'PADMAJA NAIDU (West Bengal)', 'DHARMA VIRA (Haryana, Punjab, West Bengal)', 'SHANTI SWARUP DHAWAN (West Bengal)', 'ANTHONY LANCELOT DIAS (West Bengal)', 'TRIBHUVAN NARAYAN SINGH (West Bengal)', 'ANANT PRASAD SHARMA (Punjab, West Bengal)', 'UMA SHANKAR DIKSHIT (Karnataka, West Bengal)', 'SHYAMAL KUMAR SEN (West Bengal)', 'VIREN J. SHAH (West Bengal)', 'GOPALKRISHNA GANDHI (Bihar, West Bengal)', 'M. K. NARAYANAN (West Bengal)', 'JAGDEEP DHANKHAR (West Bengal)', 'BHOGRAJU PATTABHI SITARAMAIYA (Madhya Pradesh)', 'HARI VINAYAK PATASKAR (Madhya Pradesh)', 'P. V. DIXIT (Madhya Pradesh)', 'KYASAMBALLI CHENGALRAO REDDY (Madhya Pradesh)', 'SATYANARAYAN SINHA (Madhya Pradesh)', 'G. P. SINGH (Madhya Pradesh)', 'BHAGWAT DAYAL SHARMA (Madhya Pradesh, Odisha)', 'N. D. OJHA (Madhya Pradesh)', 'SARLA GREWAL (Madhya Pradesh)', 'KUNWAR MAHMOOD ALI KHAN (Madhya Pradesh)', 'BHAI MAHAVIR (Madhya Pradesh)', 'RAM PRAKASH GUPTA (Madhya Pradesh)', 'KRISHNA MOHAN SETH (Madhya Pradesh)', 'BAL RAM JAKHAR (Madhya Pradesh)', 'RAM NARESH YADAV (Madhya Pradesh)', 'YESHWANT NARAYAN SUKTHANKAR (Odisha)', 'AJUDHIA NATH KHOSLA (Odisha)', 'SHAUKATULLAH SHAH ANSARI (Odisha)', 'SARDAR JOGENDRA SINGH (Odisha)', 'GATIKRUSHNA (Odisha)', 'B.D. JATTI (Odisha, Puducherry)', 'SIVA NARAYIN SANKAR (Odisha)', 'HARCHARAN SINGH BRAR (Haryana, Odisha)', 'SUKANTA KISHORE RAY (Odisha)', 'RANGANATH MISRA (Odisha)', 'CHEPPUDIRA MUTHANA POONACHA (Madhya Pradesh, Odisha)', 'BISHAMBHAR NATH PANDE (Odisha)', 'YAGYA DUTT SHARMA (Odisha)', 'SAIYID NURUL HASAN (Odisha, West Bengal)', 'B. SATYANARAIN REDDY (Bihar, Odisha, Uttar Pradesh)', 'M.M. RAJENDRAN (Odisha)', 'MURLIDHAR CHANDRAKANT BHADARE (Odisha)', 'GANESHI LAL (Odisha)', 'J. DAULATRAM (Assam, Bihar, Meghalaya)', 'MADHAV HARI ANEY (Bihar)', 'R. R. DIWAKAR (Bihar)', 'ZAKIR HUSAIN (Bihar)', 'M.A.S. AYYANGAR (Bihar)', 'U.N. SINHA (Bihar)', 'DEVKANT BAROOAH (Bihar)', 'R.D. BHANDARE (Andhra Pradesh, Bihar)', 'JAGANNATH KAUSHAL (Bihar)', 'K.B.N. SINGH (Bihar)', 'PENDEKANTI VENKATASUBBIAN (Bihar)', 'GOVIND NARAIN SINGH (Bihar)', 'DIPAK KUMAR SEN (Bihar)', 'JAGANNATH PAHADIA (Bihar, Haryana)', 'G.G. SOHONI (Bihar)', 'MOHAMMAD YUNUS SALEEM (Bihar)', 'B.M. LAL (Bihar)', 'SURAJBHAN (Bihar)', 'M. RAMA JOIS (Bihar, Jharkhand)', 'VED MARWAH (Bihar, Jharkhand, Manipur, Mizoram)', 'BUTA SINGH (Bihar)', 'R. L. BHATIA (Bihar, Kerala)', 'DNYANDEO YASHWANTRAO PATIL (Bihar, Tripura)', 'RAM NATH KOVIND (Bihar)', 'KENATH TRIPATHI (Bihar)', 'LAL JI TANDON (Bihar, Madhya Pradesh)', 'PHAGU CHAUHAN (Bihar)', 'MARGARET ALVA (Goa, Gujarat, Rajasthan, Uttarakhand)', 'BABY RANI MAURYA (Uttarakhand)', 'PRABHAT KUMAR (Jharkhand)', 'V.C. PANDEY (Jharkhand)', 'SYED SIBTEY RAZI (Assam, Jharkhand)', 'SYED AHMED (Jharkhand, Manipur)', 'DROUPADI MURMU (Jharkhand)', 'HEMAT SINGH JI (Himachal Pradesh)', 'RAJA BAJRANG BAHADUR SINGH BHADRI (Himachal Pradesh)', 'BHAGWAN SAHAI (Himachal Pradesh, Jammu & Kashmir)', 'OM PARKASH (Himachal Pradesh)', 'K BHADUR SINGH (Himachal Pradesh)', 'S.CHAKRAVARTI (Himachal Pradesh)', 'AMINUDDIN AHMAD KHAN (Himachal Pradesh, Punjab)', 'A.N.BANERJEE (Himachal Pradesh)', 'P.D.DESAI (Himachal Pradesh)', 'R K S GHANDHI (Himachal Pradesh)', 'S.M.H. BURNEY (Haryana, Himachal Pradesh, Manipur, Nagaland, Tripura)', 'S H A BARARI (Himachal Pradesh)', 'B.R.BHAGAT (Himachal Pradesh)', 'GULSHER AHMED (Himachal Pradesh)', 'V RATTANAM (Himachal Pradesh)', 'SUDHAKARRAO NAIK (Himachal Pradesh)', 'SHEILA KAUL (Himachal Pradesh)', 'V S RAMA DEVI (Himachal Pradesh)', 'VISHNU KANT SHASTRI (Himachal Pradesh, Uttar Pradesh)', 'VISHNU SADASHIV KOKJE (Himachal Pradesh)', 'URMILA SINGH (Himachal Pradesh)', 'ACHARYA DEVVRAT (Gujarat, Himachal Pradesh)', 'BANDARU DATTATRAYA (Himachal Pradesh)', 'H. SAIKIA (Mizoram)', 'K. V. KRISHNA RAO (Jammu & Kashmir, Manipur, Mizoram, Nagaland, Tripura)', 'W.A. SANGMA (Mizoram)', 'SWARAJ KAUSHAL (Mizoram)', 'P.R KYNDIAH (Mizoram)', 'SIDDHESWAR PRASAD (Mizoram, Tripura)', 'ARUN PRASAD MUKHERJEE (Mizoram)', 'ANANDAM PADMANABAN (Mizoram)', 'AMOLAK RATTAN KOHLI (Mizoram)', 'VAKKOM PURUSHOTHAMAN (Mizoram)', 'KAMLA BENWAL (Gujarat, Mizoram, Tripura)', 'V.K. DUGGAL (Manipur, Mizoram)', 'AZIZ QURESHI (Mizoram, Uttar Pradesh, Uttarakhand)', 'KESHARI NATH TRIPATHI (Bihar, Meghalaya, Mizoram, West Bengal)', 'NIRBHAY SHARMA (Arunachal Pradesh, Mizoram)', 'KUMMANAM RAJASEKHARAN (Mizoram)', 'P.S. SREEDHARAN PILLAI (Mizoram)', 'CHINTAMANI PANIGRAHI (Manipur)', 'O.N. SHRIVASTAVA (Manipur)', 'SHIVINDER SINGH SIDHU (Goa, Manipur, Meghalaya)', 'GURBACHAN JAGAT (Manipur, Nagaland)', 'NAJMA HEPTULLA (Manipur)', 'V. SAHAY  (Assam, Meghalaya, Nagaland)', 'L. P. SINGH (Assam, Manipur, Meghalaya, Nagaland, Tripura)', 'M.M. THOMAS (Nagaland)', 'LOKNATH MISRA (Arunachal Pradesh, Assam, Nagaland)', 'V.K. NAYYAR (Manipur, Nagaland)', 'O.N. SHRIVATSVA (Nagaland)', 'OM PRAKASH SHARMA (Nagaland)', 'SHYAMAL DATTA (Nagaland)', 'K SANKARANARAYANAN (Arunachal Pradesh, Assam, Goa, Jharkhand, Maharashtra, Nagaland)', 'NIKHIL KUMAR (Kerala, Nagaland)', 'ASHWANI KUMAR (Manipur, Nagaland)', 'KRISHAN KANT PAUL (Manipur, Meghalaya, Mizoram, Nagaland, Uttarakhand)', 'P.B ACHARYA (Arunachal Pradesh, Assam, Nagaland, Tripura)', 'R. N. RAVI (Meghalaya, Nagaland)', 'SULTAN SINGH (Tripura)', 'K.V. RAGHUNATHA REDDY (Manipur, Odisha, Sikkim, Tripura, West Bengal)', 'RAMESH BHANDARI (Tripura)', 'K.M. SETH (Tripura)', 'D.N. SAHAYA (Tripura)', 'DEVANAND KONWAR (Bihar, Tripura)', 'VAKKOM PUROSHOTHAMAN (Tripura)', 'RAMESH BAIS (Tripura)', 'PRAKASH MEHROTRA (Assam, Meghalaya)', 'HARIDEO JOSHI (Assam, Meghalaya)', 'A. A. RAHIM (Meghalaya)', 'M.M JACOB (Arunachal Pradesh, Meghalaya)', 'R.S. MOOSHAHARY (Meghalaya)', 'SATYA PAL MALIK (Bihar, Goa, Jammu & Kashmir, Meghalaya, Odisha)', 'K. P. CANDETH  (Goa)', 'T. SIVASANKAR (Goa)', 'M. R. SACHDEV (Goa)', 'HARI SHARMA (Goa)', 'K. R. DAMLE (Goa)', 'NAKUL SEN (Goa)', 'S. K. BANERJI (Goa)', 'P. S. GILL (Goa)', 'I.H. LATIF (Goa, Maharashtra)', 'BHANU PRAKASH SINGH (Goa)', 'B. RACHAIAH (Goa, Himachal Pradesh, Kerala)', 'G. RAMANUJAM (Andhra Pradesh, Goa, Kerala, Odisha)', 'T. R. SATISH CHANDRAN (Goa)', 'J. F. R. JACOB (Chandigarh, Goa, Punjab)', 'MOHD. FAZAL (Goa, Kerala)', 'S. C. JAMIR (Goa, Gujarat, Maharashtra, Odisha)', 'BHARAT VIR WANCHOO (Goa)', 'OM PRAKASH KOHLI (Goa, Gujarat, Madhya Pradesh)', 'MRIDULA SINHA (Goa)', 'CHANDULAL MADHAVLAL TRIVEDI (Andhra Pradesh, Punjab)', 'BHIMSEN SACHAR (Andhra Pradesh)', 'KHANDUBHAI KASANJI DESAI (Andhra Pradesh)', 'S.OBUL REDDY (Andhra Pradesh)', 'B.J. DIWAN (Andhra Pradesh)', 'SHARADA MUKHERJEE (Andhra Pradesh)', 'K.C. ABRAHAM (Andhra Pradesh)', 'RAM LAL (Andhra Pradesh)', 'KUMUDBEN MANISHANKAR JOSHI (Andhra Pradesh)', 'SURJIT SINGH BARNALA (Andhra Pradesh, Puducherry, Tamil Nadu, Uttarakhand)', 'SUSHILKUMAR SHINDE (Andhra Pradesh)', 'NARAYAN DATT TIWARI (Andhra Pradesh)', 'SRI BISWA BHUSAN HARICHANDAN (Andhra Pradesh)', 'E.S.L. NARASIMHAN (Andhra Pradesh, Telangana)', 'TAMILISAI SOUNDARARAJAN (Telangana)', 'R.D. PRADHAN (Arunachal Pradesh, Bihar)', 'GOPAL SINGH (Arunachal Pradesh, Goa, Nagaland)', 'S.N. DWIVEDY (Arunachal Pradesh)', 'MADHUKAR DIGHE (Arunachal Pradesh, Meghalaya)', 'MATA PRASAD (Arunachal Pradesh)', 'ARVIND DAVE (Arunachal Pradesh, Manipur)', 'V.C. PANDE (Arunachal Pradesh, Bihar)', 'S.K. SINGH (Arunachal Pradesh)', 'J.J. SINGH (Arunachal Pradesh)', 'J.P. RAJKHOWA (Arunachal Pradesh)', 'TATHAGATA ROY (Arunachal Pradesh, Meghalaya, Tripura)', 'V. SHANMUGANATHAN (Arunachal Pradesh, Manipur, Meghalaya)', 'B. D. MISHRA  (Arunachal Pradesh)', 'B.B. LAL (Sikkim)', 'H. J. H. TALEYARKHAN (Sikkim)', 'S.K. BHATNAGAR (Sikkim)', 'R. H. TAHILIANI (Sikkim)', 'CHAUDHARY RANDHIR SINGH (Sikkim)', 'KIDAR NATH SAHANI (Goa, Sikkim)', 'V. RAMA RAO (Sikkim)', 'BALMIKI PRASAD SINGH (Sikkim)', 'SHRINIWAS PATIL (Sikkim)', 'GANGA PRASAD (Meghalaya, Sikkim)', 'CHANDESHWAR PRASAD NARAYAN SINGH (Punjab, Uttar Pradesh)', 'NARAHAR VISHNU GADGIL (Punjab)', 'PATTOM THANU PILLAI (Andhra Pradesh, Punjab)', 'HAFIZ MOHAMMAD IBRAHIM (Punjab)', 'MEHAR SINGH (Punjab)', 'D. C. PAVATE (Punjab)', 'MAHENDRA MOHAN CHOUDHRY (Punjab)', 'RANJIT SINGH NARULA (Haryana, Punjab)', 'S. S. SANDHAWALIA (Haryana, Punjab)', 'KERSHASP TEHMURASP SATARAWALA (Goa, Punjab)', 'ARJUN SINGH (Chandigarh, Punjab)', 'HOKISHE SEMA (Himachal Pradesh, Punjab)', 'S. S. RAY (Chandigarh, Punjab)', 'NIRMAL MUKARJI (Punjab)', 'VIRENDRA VERMA (Himachal Pradesh, Punjab)', 'O. P.MALHOTRA (Chandigarh, Punjab)', 'SURENDRA NATH (Himachal Pradesh, Punjab)', 'SUDHAKAR PANDITRAO KURDUKAR (Punjab)', 'B. K. N. CHHIBBER (Chandigarh, Punjab)', 'AKHLAQUR RAHMAN KIDWAI (Bihar, Haryana, Punjab, Rajasthan, West Bengal)', 'S. F. RODRIGUES (Chandigarh, Punjab)', 'KAPTAN SINGH SOLANKI (Chandigarh, Haryana, Punjab, Tripura)', 'A.N. JHA (Delhi)', 'M.G. PIMPUTKAR (Delhi)', 'BALESHWAR PRASAD (Delhi)', 'KRISHAN CHAND (Delhi)', 'D.R. KOHLI (Delhi)', 'P.G. GAVAI (Delhi)', 'M.M.K. WALI (Delhi)', 'AVM H.L. KAPUR (Delhi)', 'ROMESH BHANDARI (Delhi, Goa, Uttar Pradesh)', 'ACM ARJAN SINGH (Delhi)', 'MARKANDEY SINGH (Delhi)', 'P.K. DAVE (Delhi)', 'TEJENDRA KHANNA (Delhi)', 'VIJAI KAPOOR (Delhi)', 'B. L. JOSHI (Delhi, Meghalaya, Uttar Pradesh, Uttarakhand)', 'NAJEEB JUNG (Delhi)', 'ANIL BAIJAL (Delhi)', 'S.L. SILAM (Puducherry)', 'CHHEDL LAL (Puducherry)', 'B.T. KULKARNI (Puducherry)', 'R.K. VYAS (Puducherry)', 'SADIQALI (Puducherry)', 'R.N. HALDIPUR (Puducherry)', 'A.N. BANERJI (Puducherry)', 'K. PRABHAKARA RAO (Maharashtra, Puducherry, Sikkim)', 'TRIBHUVAN PRASAD TEWARY (Puducherry)', 'RAN JIT SINGH DYAL (Puducherry)', 'CHANDRAVATHI (Puducherry)', 'HARSWARUP SINGH (Puducherry)', 'RAJENDRA KUMARI BAJPAI (Puducherry)', 'RAJANI RAI (Puducherry)', 'K.R. MALKANI (Puducherry)', 'P.S. RAMA MOHAN RAO (Puducherry, Tamil Nadu)', 'NAGENDRA NATH JHA (Puducherry)', 'MADAN MOHAN LAKHERA (Mizoram, Puducherry)', 'MUKUT MITHI (Puducherry)', 'BHOPINDER SINGH (Puducherry)', 'GOVIND SINGH GURJAR (Puducherry)', 'IQBAL SINGH (Puducherry)', 'VIRENDRA KATARIA (Puducherry)', 'AJAY KUMAR SINGH (Puducherry)', 'KIRAN BEDI (Puducherry)', 'BHAIRAB DATT PANDE (Chandigarh, Punjab, West Bengal)', 'K. T. SATARWALA (Chandigarh)', 'S. D. SHARMA (Chandigarh)', 'N. N. MUKARJI (Chandigarh)', 'VARINDER VERMA (Chandigarh)', 'SURINDRA NATH (Chandigarh)', 'SHIVRAJ V. PATIL (Chandigarh, Punjab, Rajasthan)', 'V.P. SINGH BADNORE (Chandigarh, Punjab)', 'RADHA KRISHNA MATHUR (Ladakh)', 'KARAN SINGH (Jammu & Kashmir)', 'J. N. WAZIR (Jammu & Kashmir)', 'L. K. JHA (Jammu & Kashmir)', 'B. K. NEHRU (Assam, Gujarat, Jammu & Kashmir, Manipur, Meghalaya, Nagaland, Tripura)', 'JAGMOHAN (Delhi, Goa, Jammu & Kashmir)', 'GIRISH CHANDRA SAXENA (Jammu & Kashmir)', 'N. N. VOHRA (Jammu & Kashmir)', 'MANOJ SINHA (Jammu & Kashmir)', 'D K JOSHI (Andaman & Nicobar Islands)', 'U.R. PANICKER (Lakshadweep)', 'S MONY (Lakshadweep)', 'C.K. BALAKRISHNAN NAIR (Lakshadweep)', 'M RAMUNNY (Lakshadweep)', 'C.H NAIRE (Lakshadweep)', 'K.D MENON (Lakshadweep)', 'W. SHAIZA (Lakshadweep)', 'M.C VERMA (Lakshadweep)', 'S.D. LAKHAR (Lakshadweep)', 'P.M. NAIR (Lakshadweep)', 'PARADIP MEHRA (Lakshadweep)', 'OMESH SAIGAL (Lakshadweep)', 'J. SAGAR (Lakshadweep)', 'WAJAHAT HABIBULLA (Lakshadweep)', 'PRADIP SINGH (Lakshadweep)', 'S. P. AGGRAWAL (Dadra & Nagar Haveli, Daman & Diu, Lakshadweep)', 'SATISH CHANDRA (Lakshadweep)', 'G.S. CHIMA (Lakshadweep)', 'RAJEEV TALWAR (Lakshadweep)', 'CHAMAN LAL (Lakshadweep)', 'R.K. VARMA (Lakshadweep)', 'K.S. MEHRA (Lakshadweep)', 'S.P. SINGH (Lakshadweep)', 'PARIMAL RAI (Lakshadweep)', 'RAJENDRA KUMAR (Lakshadweep)', 'B.V. SELVARAJ (Lakshadweep)', 'SATYA GOPAL (Dadra & Nagar Haveli, Daman & Diu, Lakshadweep)', 'J.K. DADOO (Lakshadweep)', 'AMARNATH (Lakshadweep)', 'H.RAJESH PRASAD (Lakshadweep)', 'VIJAY KUMAR  (Lakshadweep)', 'FAROOQ KHAN (Lakshadweep)', 'DINESHWAR SHARMA (Lakshadweep)', 'K. S. BAIDWAN (Dadra & Nagar Haveli, Daman & Diu)', 'RAMESH CHANDRA (Dadra & Nagar Haveli, Daman & Diu)', 'SANAT KAUL (Dadra & Nagar Haveli, Daman & Diu)', 'RAMESH NEGI (Dadra & Nagar Haveli, Daman & Diu)', 'O. P. KELKAR (Dadra & Nagar Haveli, Daman & Diu)', 'ARUN MATHUR (Dadra & Nagar Haveli, Daman & Diu)', 'V. K. SINGH (Dadra & Nagar Haveli, Daman & Diu)', 'DHARMENDRA (Dadra & Nagar Haveli, Daman & Diu)', 'R. K. VERMA (Dadra & Nagar Haveli, Daman & Diu)', 'NARENDRA KUMAR (Dadra & Nagar Haveli, Daman & Diu)', 'B. S. BHALLA (Dadra & Nagar Haveli, Daman & Diu)', 'ASHISH KUNDRA (Dadra & Nagar Haveli, Daman & Diu)', 'VIKRAM DEV DUTT (Dadra & Nagar Haveli, Daman & Diu)', 'PRAFUL PATEL (Dadra & Nagar Haveli, Dadra & Nagar Haveli & Daman & Diu, Daman & Diu)']\n"
     ]
    }
   ],
   "source": [
    "total_duration = []\n",
    "names = []\n",
    "state_comp = []\n",
    "\n",
    "for i in unique_ids:\n",
    "    total = 0\n",
    "    name = \"\"\n",
    "    of_state = []\n",
    "    for index, row in df.iterrows():\n",
    "        if row[\"ID\"] == i:\n",
    "            total += row[\"term_duration\"]\n",
    "            name = row[\"name\"]\n",
    "            of_state.append(row[\"state/ut\"])\n",
    "    total_duration.append(total)\n",
    "    names.append(name)\n",
    "    state_comp.append(list(np.unique(np.array(of_state))))\n",
    "\n",
    "# id_and_dur = {unique_ids[i]: total_duration[i] for i in range(len(unique_ids))} \n",
    "# print(id_and_dur)\n",
    "\n",
    "for i in range(len(names)):\n",
    "    names[i] += ' ('\n",
    "    for j in range(len(state_comp[i])):\n",
    "        st = state_comp[i][j]\n",
    "        if j != len(state_comp[i]) - 1:\n",
    "            names[i] += (st + \", \")\n",
    "        else:\n",
    "            names[i] += (st + \")\")\n",
    "\n",
    "print(names)"
   ]
  },
  {
   "cell_type": "code",
   "execution_count": 17,
   "metadata": {},
   "outputs": [
    {
     "data": {
      "application/vnd.plotly.v1+json": {
       "config": {
        "plotlyServerURL": "https://plot.ly"
       },
       "data": [
        {
         "hovertemplate": "<b>ID</b>: %{x}<br><b>Total Duration</b>: %{y} days<br><b>Name</b>: %{text}<extra></extra>",
         "text": [
          "ROBERT NIEL REID (Assam)",
          "GILBERT PITCHIN HOGG (Assam)",
          "HENRY JOSEPH TWYNAM (Assam)",
          "ANDREW GOURLAY CLOW  (Assam)",
          "FREDERICK CHALMERS BOURNE  (Assam)",
          "HENRY FOLEY KNIGHT (Assam)",
          "AKBAR HAIDARI (Assam, Meghalaya)",
          "RONALD FRANCIS LODGE (Assam)",
          "SAIYID FAZI ALI (Assam, Meghalaya)",
          "CHANDRESWAR PRASAD SINGHA (Assam)",
          "P.K. GOSWAMI (Assam)",
          "T.S. MISRA (Assam)",
          "ANISETTI ROGHUVIR (Assam)",
          "D.D. THAKUR (Arunachal Pradesh, Assam)",
          "S K SINHA (Arunachal Pradesh, Assam, Jammu & Kashmir)",
          "AJAI SINGH (Assam)",
          "SHIV CHARAN MATHUR (Assam)",
          "JANAKI BALLAV PATNAIK (Assam)",
          "JAGDISH MUKHI (Assam, Manipur, Mizoram)",
          "MEHDI NAWAZ JUNG (Gujarat)",
          "NITYANAND KANUNGO (Bihar, Gujarat)",
          "SHRIMAN NARAYAN (Gujarat)",
          "KK VISWANATHAN (Gujarat)",
          "SHARDA MUKERJEE (Gujarat)",
          "K.M. CHANDY (Gujarat, Madhya Pradesh, Puducherry)",
          "RAM KRISHNA TRIVEDI (Gujarat)",
          "MAHIPALSINGH SHASTRI (Gujarat)",
          "NARESH CHANDRA SAXENA (Gujarat)",
          "KRISHNA PAL SINGH (Gujarat)",
          "SUNDER SINGH BHANDARI (Bihar, Gujarat)",
          "KAILASHPATI MISHRA (Gujarat, Rajasthan)",
          "NAWAL KISHORE SHARMA (Gujarat)",
          "B.N. CHAKRABORTY (Haryana)",
          "JAISUKH LAL HATHI (Haryana, Punjab)",
          "HARI ANAND BARARI (Haryana)",
          "DHANIKLAL MANDAL (Haryana, Rajasthan)",
          "MAHABIR PRASAD (Haryana, Himachal Pradesh)",
          "BABU PARMANAND (Haryana)",
          "O. P. VERMA (Chandigarh, Haryana, Punjab)",
          "SATYADEO NARAIN ARYA (Haryana)",
          "JAYACHAMARAJENDRA WODEYER (Karnataka)",
          "MANGALADAS PAKVAS (Karnataka)",
          "S.M. SHRINAGESH (Andhra Pradesh, Assam, Karnataka, Meghalaya)",
          "G.S.PATHAK (Karnataka)",
          "SOMANATH IYER (Karnataka)",
          "DHARMAVEERA (Karnataka)",
          "MOHANLAL SUKHADIA (Andhra Pradesh, Karnataka, Tamil Nadu)",
          "GOVINDNARAYANAN (Karnataka)",
          "ASHOKNATH BANERJEE (Karnataka)",
          "P.VENKATASUBBAYYA (Karnataka)",
          "S.MOHAN (Karnataka)",
          "BHANUPRATAP SINGH (Karnataka)",
          "S.P.BARUCHA (Karnataka)",
          "M.L.PENDSE (Karnataka)",
          "V.S.RAMADEVI (Karnataka)",
          "TRILOKI NATH CHATURVEDI (Karnataka, Kerala)",
          "K. ROSAIAH (Karnataka, Tamil Nadu)",
          "VAJUBHAI VALA (Karnataka)",
          "P.S. RAO (Kerala)",
          "VARAHGIRI VENKAT GIRI (Karnataka, Kerala, Uttar Pradesh)",
          "A.P. JAIN (Kerala)",
          "BHAGAVAN SAHAY (Kerala)",
          "V.VISHWANATHAN (Himachal Pradesh, Kerala)",
          "NIRANJAN NATH WANCHOO (Kerala, Madhya Pradesh)",
          "JOTHI VENKATACHELLUM (Kerala)",
          "P. RAMACHANDRAN (Kerala)",
          "RAMDULARI SINHA (Kerala)",
          "SARUP SINGH (Gujarat, Kerala)",
          "P. SHIV SHANKAR (Kerala, Sikkim)",
          "KHURSHED ALAM KHAN (Goa, Karnataka, Kerala)",
          "SUKHDEV SINGH KANG (Kerala)",
          "SIKANDER BAKHT (Kerala)",
          "R. S. GAVAI (Bihar, Kerala)",
          "M.O.H. FAROOK (Jharkhand, Kerala)",
          "H.R. BHARDWAJ (Karnataka, Kerala)",
          "SHEILA DIKSHIT (Kerala)",
          "P. SATHASIVAM (Kerala)",
          "ARIF MOHAMMED KHAN (Kerala)",
          "RAJ PRAMUKH SAWAI SH. MANSINGH (Rajasthan)",
          "GURUMUKH NIHAL SINGH (Rajasthan)",
          "SAMPURNANAND (Rajasthan)",
          "HUKUM SINGH (Rajasthan)",
          "JAGAT NARAIN (Rajasthan)",
          "JOGINDER SINGH (Rajasthan)",
          "VEDPAL TYAGI (Rajasthan)",
          "RAGHUKUL TILAK (Rajasthan)",
          "K.D. SHARMA (Rajasthan)",
          "P.K. BANERJEE (Rajasthan)",
          "O. P. MEHRA (Maharashtra, Rajasthan)",
          "D.P. GUPTA (Rajasthan)",
          "VASANT RAO PATIL (Rajasthan)",
          "SUKHDEV PRASAD (Rajasthan)",
          "JAGDISH SHARAN VERMA (Rajasthan)",
          "MILAP CHAND JAIN (Rajasthan)",
          "DEVI PRASAD CHATTOPADHYAY (Rajasthan)",
          "SWAROOP SINGH (Rajasthan)",
          "M. CHANNA REDDY (Puducherry, Punjab, Rajasthan, Tamil Nadu, Uttar Pradesh)",
          "BALIRAM BHAGAT (Rajasthan)",
          "SARDAR DARBARA SINGH (Rajasthan)",
          "N.L. TIBREWAL (Rajasthan)",
          "ANSHUMAN SINGH (Gujarat, Rajasthan)",
          "NIRMAL CHANDRA JAIN (Rajasthan)",
          "MADAN LAL KHURANA (Rajasthan)",
          "T.V. RAJESWAR (Rajasthan, Sikkim, Uttar Pradesh, West Bengal)",
          "PRATIBHA PATIL (Rajasthan)",
          "SHILENDRA KUMAR SINGH (Rajasthan)",
          "RAMESHWAR THAKUR (Andhra Pradesh, Karnataka, Madhya Pradesh, Odisha, Rajasthan)",
          "PRABHA RAU (Himachal Pradesh, Rajasthan)",
          "RAM NAIK (Rajasthan, Uttar Pradesh)",
          "KALYAN SINGH (Himachal Pradesh, Rajasthan)",
          "KALRAJ MISHRA (Himachal Pradesh, Rajasthan)",
          "KRISHNA KUMARSINGJI BHAVSINGJI (Tamil Nadu)",
          "A.J. JOHN (Tamil Nadu)",
          "BISNURAM MEDHI (Tamil Nadu)",
          "JAYACHAMARAJA WADIYAR BAHADUR (Tamil Nadu)",
          "SARDAR UJJAL SINGH (Punjab, Tamil Nadu)",
          "K.K.SHAH (Tamil Nadu)",
          "P. GOVINDAN NAIR (Tamil Nadu)",
          "PRABHUDAS B.PATWARI (Tamil Nadu)",
          "M.M.ISMAIL (Tamil Nadu)",
          "SADIQ ALI (Maharashtra, Tamil Nadu)",
          "S.L. KHURANA (Delhi, Puducherry, Tamil Nadu)",
          "BHISHMA N. SINGH (Arunachal Pradesh, Assam, Meghalaya, Sikkim, Tamil Nadu)",
          "KRISHAN KANT (Andhra Pradesh, Tamil Nadu)",
          "M.FATHIMA BEEVI (Tamil Nadu)",
          "C. RANGARAJAN (Andhra Pradesh, Kerala, Odisha, Tamil Nadu)",
          "CHENNAMANENI VIDYASAGAR RAO (Maharashtra, Tamil Nadu)",
          "BANWARILAL PUROHIT (Assam, Meghalaya, Tamil Nadu)",
          "H.P. MODI (Uttar Pradesh)",
          "KANHAIYALAL MANEKLAL MUNSHI (Uttar Pradesh)",
          "B. RAMAKRISHNA RAO (Kerala, Uttar Pradesh)",
          "BISHWANATH DAS (Uttar Pradesh)",
          "BEZWADA GOPALA REDDY (Uttar Pradesh)",
          "SHASHI KANTA VERMA (Uttar Pradesh)",
          "AKBAR ALI KHAN (Odisha, Uttar Pradesh)",
          "GANPATRAO DEVJI TAPASE (Haryana, Uttar Pradesh)",
          "MOHAMMAD USMAN ARIF (Uttar Pradesh)",
          "MOTILAL VORA (Uttar Pradesh)",
          "MOHAMMAD SHAFI QURESHI (Bihar, Madhya Pradesh, Uttar Pradesh)",
          "SURAJ BHAN (Himachal Pradesh, Uttar Pradesh)",
          "SUDARSHAN AGARWAL (Sikkim, Uttar Pradesh, Uttarakhand)",
          "ANANDIBEN PATEL (Madhya Pradesh, Uttar Pradesh)",
          "RAJA MAHARAJ SINGH (Maharashtra)",
          "GIRIJA SHANKAR BAJPAI (Maharashtra)",
          "HARE KRISHNA MAHTAB (Maharashtra)",
          "SRI PRAKASA (Assam, Maharashtra, Meghalaya, Tamil Nadu)",
          "P. SUBBARAYAN (Maharashtra)",
          "VIJAYALAKSHMI PANDIT (Maharashtra)",
          "P. V. CHERIAN (Maharashtra)",
          "ALI YAVAR JUNG (Maharashtra)",
          "SHANKAR DAYAL SHARMA (Andhra Pradesh, Madhya Pradesh, Maharashtra, Punjab)",
          "BRAHMANANDA REDDY (Maharashtra)",
          "C. SUBRAMANIAM (Maharashtra)",
          "P. C. ALEXANDER (Goa, Maharashtra, Tamil Nadu)",
          "MOHAMMED FAZAL (Maharashtra)",
          "S. M. KRISHNA (Maharashtra)",
          "BHAGAT SINGH KOSHYARI (Goa, Maharashtra)",
          "CHAKRAVARTI RAJAGOPALACHARI (West Bengal)",
          "KAILASH NATH KATJU (West Bengal)",
          "HARENDRA COOMAR MOOKERJEE (West Bengal)",
          "PADMAJA NAIDU (West Bengal)",
          "DHARMA VIRA (Haryana, Punjab, West Bengal)",
          "SHANTI SWARUP DHAWAN (West Bengal)",
          "ANTHONY LANCELOT DIAS (West Bengal)",
          "TRIBHUVAN NARAYAN SINGH (West Bengal)",
          "ANANT PRASAD SHARMA (Punjab, West Bengal)",
          "UMA SHANKAR DIKSHIT (Karnataka, West Bengal)",
          "SHYAMAL KUMAR SEN (West Bengal)",
          "VIREN J. SHAH (West Bengal)",
          "GOPALKRISHNA GANDHI (Bihar, West Bengal)",
          "M. K. NARAYANAN (West Bengal)",
          "JAGDEEP DHANKHAR (West Bengal)",
          "BHOGRAJU PATTABHI SITARAMAIYA (Madhya Pradesh)",
          "HARI VINAYAK PATASKAR (Madhya Pradesh)",
          "P. V. DIXIT (Madhya Pradesh)",
          "KYASAMBALLI CHENGALRAO REDDY (Madhya Pradesh)",
          "SATYANARAYAN SINHA (Madhya Pradesh)",
          "G. P. SINGH (Madhya Pradesh)",
          "BHAGWAT DAYAL SHARMA (Madhya Pradesh, Odisha)",
          "N. D. OJHA (Madhya Pradesh)",
          "SARLA GREWAL (Madhya Pradesh)",
          "KUNWAR MAHMOOD ALI KHAN (Madhya Pradesh)",
          "BHAI MAHAVIR (Madhya Pradesh)",
          "RAM PRAKASH GUPTA (Madhya Pradesh)",
          "KRISHNA MOHAN SETH (Madhya Pradesh)",
          "BAL RAM JAKHAR (Madhya Pradesh)",
          "RAM NARESH YADAV (Madhya Pradesh)",
          "YESHWANT NARAYAN SUKTHANKAR (Odisha)",
          "AJUDHIA NATH KHOSLA (Odisha)",
          "SHAUKATULLAH SHAH ANSARI (Odisha)",
          "SARDAR JOGENDRA SINGH (Odisha)",
          "GATIKRUSHNA (Odisha)",
          "B.D. JATTI (Odisha, Puducherry)",
          "SIVA NARAYIN SANKAR (Odisha)",
          "HARCHARAN SINGH BRAR (Haryana, Odisha)",
          "SUKANTA KISHORE RAY (Odisha)",
          "RANGANATH MISRA (Odisha)",
          "CHEPPUDIRA MUTHANA POONACHA (Madhya Pradesh, Odisha)",
          "BISHAMBHAR NATH PANDE (Odisha)",
          "YAGYA DUTT SHARMA (Odisha)",
          "SAIYID NURUL HASAN (Odisha, West Bengal)",
          "B. SATYANARAIN REDDY (Bihar, Odisha, Uttar Pradesh)",
          "M.M. RAJENDRAN (Odisha)",
          "MURLIDHAR CHANDRAKANT BHADARE (Odisha)",
          "GANESHI LAL (Odisha)",
          "J. DAULATRAM (Assam, Bihar, Meghalaya)",
          "MADHAV HARI ANEY (Bihar)",
          "R. R. DIWAKAR (Bihar)",
          "ZAKIR HUSAIN (Bihar)",
          "M.A.S. AYYANGAR (Bihar)",
          "U.N. SINHA (Bihar)",
          "DEVKANT BAROOAH (Bihar)",
          "R.D. BHANDARE (Andhra Pradesh, Bihar)",
          "JAGANNATH KAUSHAL (Bihar)",
          "K.B.N. SINGH (Bihar)",
          "PENDEKANTI VENKATASUBBIAN (Bihar)",
          "GOVIND NARAIN SINGH (Bihar)",
          "DIPAK KUMAR SEN (Bihar)",
          "JAGANNATH PAHADIA (Bihar, Haryana)",
          "G.G. SOHONI (Bihar)",
          "MOHAMMAD YUNUS SALEEM (Bihar)",
          "B.M. LAL (Bihar)",
          "SURAJBHAN (Bihar)",
          "M. RAMA JOIS (Bihar, Jharkhand)",
          "VED MARWAH (Bihar, Jharkhand, Manipur, Mizoram)",
          "BUTA SINGH (Bihar)",
          "R. L. BHATIA (Bihar, Kerala)",
          "DNYANDEO YASHWANTRAO PATIL (Bihar, Tripura)",
          "RAM NATH KOVIND (Bihar)",
          "KENATH TRIPATHI (Bihar)",
          "LAL JI TANDON (Bihar, Madhya Pradesh)",
          "PHAGU CHAUHAN (Bihar)",
          "MARGARET ALVA (Goa, Gujarat, Rajasthan, Uttarakhand)",
          "BABY RANI MAURYA (Uttarakhand)",
          "PRABHAT KUMAR (Jharkhand)",
          "V.C. PANDEY (Jharkhand)",
          "SYED SIBTEY RAZI (Assam, Jharkhand)",
          "SYED AHMED (Jharkhand, Manipur)",
          "DROUPADI MURMU (Jharkhand)",
          "HEMAT SINGH JI (Himachal Pradesh)",
          "RAJA BAJRANG BAHADUR SINGH BHADRI (Himachal Pradesh)",
          "BHAGWAN SAHAI (Himachal Pradesh, Jammu & Kashmir)",
          "OM PARKASH (Himachal Pradesh)",
          "K BHADUR SINGH (Himachal Pradesh)",
          "S.CHAKRAVARTI (Himachal Pradesh)",
          "AMINUDDIN AHMAD KHAN (Himachal Pradesh, Punjab)",
          "A.N.BANERJEE (Himachal Pradesh)",
          "P.D.DESAI (Himachal Pradesh)",
          "R K S GHANDHI (Himachal Pradesh)",
          "S.M.H. BURNEY (Haryana, Himachal Pradesh, Manipur, Nagaland, Tripura)",
          "S H A BARARI (Himachal Pradesh)",
          "B.R.BHAGAT (Himachal Pradesh)",
          "GULSHER AHMED (Himachal Pradesh)",
          "V RATTANAM (Himachal Pradesh)",
          "SUDHAKARRAO NAIK (Himachal Pradesh)",
          "SHEILA KAUL (Himachal Pradesh)",
          "V S RAMA DEVI (Himachal Pradesh)",
          "VISHNU KANT SHASTRI (Himachal Pradesh, Uttar Pradesh)",
          "VISHNU SADASHIV KOKJE (Himachal Pradesh)",
          "URMILA SINGH (Himachal Pradesh)",
          "ACHARYA DEVVRAT (Gujarat, Himachal Pradesh)",
          "BANDARU DATTATRAYA (Himachal Pradesh)",
          "H. SAIKIA (Mizoram)",
          "K. V. KRISHNA RAO (Jammu & Kashmir, Manipur, Mizoram, Nagaland, Tripura)",
          "W.A. SANGMA (Mizoram)",
          "SWARAJ KAUSHAL (Mizoram)",
          "P.R KYNDIAH (Mizoram)",
          "SIDDHESWAR PRASAD (Mizoram, Tripura)",
          "ARUN PRASAD MUKHERJEE (Mizoram)",
          "ANANDAM PADMANABAN (Mizoram)",
          "AMOLAK RATTAN KOHLI (Mizoram)",
          "VAKKOM PURUSHOTHAMAN (Mizoram)",
          "KAMLA BENWAL (Gujarat, Mizoram, Tripura)",
          "V.K. DUGGAL (Manipur, Mizoram)",
          "AZIZ QURESHI (Mizoram, Uttar Pradesh, Uttarakhand)",
          "KESHARI NATH TRIPATHI (Bihar, Meghalaya, Mizoram, West Bengal)",
          "NIRBHAY SHARMA (Arunachal Pradesh, Mizoram)",
          "KUMMANAM RAJASEKHARAN (Mizoram)",
          "P.S. SREEDHARAN PILLAI (Mizoram)",
          "CHINTAMANI PANIGRAHI (Manipur)",
          "O.N. SHRIVASTAVA (Manipur)",
          "SHIVINDER SINGH SIDHU (Goa, Manipur, Meghalaya)",
          "GURBACHAN JAGAT (Manipur, Nagaland)",
          "NAJMA HEPTULLA (Manipur)",
          "V. SAHAY  (Assam, Meghalaya, Nagaland)",
          "L. P. SINGH (Assam, Manipur, Meghalaya, Nagaland, Tripura)",
          "M.M. THOMAS (Nagaland)",
          "LOKNATH MISRA (Arunachal Pradesh, Assam, Nagaland)",
          "V.K. NAYYAR (Manipur, Nagaland)",
          "O.N. SHRIVATSVA (Nagaland)",
          "OM PRAKASH SHARMA (Nagaland)",
          "SHYAMAL DATTA (Nagaland)",
          "K SANKARANARAYANAN (Arunachal Pradesh, Assam, Goa, Jharkhand, Maharashtra, Nagaland)",
          "NIKHIL KUMAR (Kerala, Nagaland)",
          "ASHWANI KUMAR (Manipur, Nagaland)",
          "KRISHAN KANT PAUL (Manipur, Meghalaya, Mizoram, Nagaland, Uttarakhand)",
          "P.B ACHARYA (Arunachal Pradesh, Assam, Nagaland, Tripura)",
          "R. N. RAVI (Meghalaya, Nagaland)",
          "SULTAN SINGH (Tripura)",
          "K.V. RAGHUNATHA REDDY (Manipur, Odisha, Sikkim, Tripura, West Bengal)",
          "RAMESH BHANDARI (Tripura)",
          "K.M. SETH (Tripura)",
          "D.N. SAHAYA (Tripura)",
          "DEVANAND KONWAR (Bihar, Tripura)",
          "VAKKOM PUROSHOTHAMAN (Tripura)",
          "RAMESH BAIS (Tripura)",
          "PRAKASH MEHROTRA (Assam, Meghalaya)",
          "HARIDEO JOSHI (Assam, Meghalaya)",
          "A. A. RAHIM (Meghalaya)",
          "M.M JACOB (Arunachal Pradesh, Meghalaya)",
          "R.S. MOOSHAHARY (Meghalaya)",
          "SATYA PAL MALIK (Bihar, Goa, Jammu & Kashmir, Meghalaya, Odisha)",
          "K. P. CANDETH  (Goa)",
          "T. SIVASANKAR (Goa)",
          "M. R. SACHDEV (Goa)",
          "HARI SHARMA (Goa)",
          "K. R. DAMLE (Goa)",
          "NAKUL SEN (Goa)",
          "S. K. BANERJI (Goa)",
          "P. S. GILL (Goa)",
          "I.H. LATIF (Goa, Maharashtra)",
          "BHANU PRAKASH SINGH (Goa)",
          "B. RACHAIAH (Goa, Himachal Pradesh, Kerala)",
          "G. RAMANUJAM (Andhra Pradesh, Goa, Kerala, Odisha)",
          "T. R. SATISH CHANDRAN (Goa)",
          "J. F. R. JACOB (Chandigarh, Goa, Punjab)",
          "MOHD. FAZAL (Goa, Kerala)",
          "S. C. JAMIR (Goa, Gujarat, Maharashtra, Odisha)",
          "BHARAT VIR WANCHOO (Goa)",
          "OM PRAKASH KOHLI (Goa, Gujarat, Madhya Pradesh)",
          "MRIDULA SINHA (Goa)",
          "CHANDULAL MADHAVLAL TRIVEDI (Andhra Pradesh, Punjab)",
          "BHIMSEN SACHAR (Andhra Pradesh)",
          "KHANDUBHAI KASANJI DESAI (Andhra Pradesh)",
          "S.OBUL REDDY (Andhra Pradesh)",
          "B.J. DIWAN (Andhra Pradesh)",
          "SHARADA MUKHERJEE (Andhra Pradesh)",
          "K.C. ABRAHAM (Andhra Pradesh)",
          "RAM LAL (Andhra Pradesh)",
          "KUMUDBEN MANISHANKAR JOSHI (Andhra Pradesh)",
          "SURJIT SINGH BARNALA (Andhra Pradesh, Puducherry, Tamil Nadu, Uttarakhand)",
          "SUSHILKUMAR SHINDE (Andhra Pradesh)",
          "NARAYAN DATT TIWARI (Andhra Pradesh)",
          "SRI BISWA BHUSAN HARICHANDAN (Andhra Pradesh)",
          "E.S.L. NARASIMHAN (Andhra Pradesh, Telangana)",
          "TAMILISAI SOUNDARARAJAN (Telangana)",
          "R.D. PRADHAN (Arunachal Pradesh, Bihar)",
          "GOPAL SINGH (Arunachal Pradesh, Goa, Nagaland)",
          "S.N. DWIVEDY (Arunachal Pradesh)",
          "MADHUKAR DIGHE (Arunachal Pradesh, Meghalaya)",
          "MATA PRASAD (Arunachal Pradesh)",
          "ARVIND DAVE (Arunachal Pradesh, Manipur)",
          "V.C. PANDE (Arunachal Pradesh, Bihar)",
          "S.K. SINGH (Arunachal Pradesh)",
          "J.J. SINGH (Arunachal Pradesh)",
          "J.P. RAJKHOWA (Arunachal Pradesh)",
          "TATHAGATA ROY (Arunachal Pradesh, Meghalaya, Tripura)",
          "V. SHANMUGANATHAN (Arunachal Pradesh, Manipur, Meghalaya)",
          "B. D. MISHRA  (Arunachal Pradesh)",
          "B.B. LAL (Sikkim)",
          "H. J. H. TALEYARKHAN (Sikkim)",
          "S.K. BHATNAGAR (Sikkim)",
          "R. H. TAHILIANI (Sikkim)",
          "CHAUDHARY RANDHIR SINGH (Sikkim)",
          "KIDAR NATH SAHANI (Goa, Sikkim)",
          "V. RAMA RAO (Sikkim)",
          "BALMIKI PRASAD SINGH (Sikkim)",
          "SHRINIWAS PATIL (Sikkim)",
          "GANGA PRASAD (Meghalaya, Sikkim)",
          "CHANDESHWAR PRASAD NARAYAN SINGH (Punjab, Uttar Pradesh)",
          "NARAHAR VISHNU GADGIL (Punjab)",
          "PATTOM THANU PILLAI (Andhra Pradesh, Punjab)",
          "HAFIZ MOHAMMAD IBRAHIM (Punjab)",
          "MEHAR SINGH (Punjab)",
          "D. C. PAVATE (Punjab)",
          "MAHENDRA MOHAN CHOUDHRY (Punjab)",
          "RANJIT SINGH NARULA (Haryana, Punjab)",
          "S. S. SANDHAWALIA (Haryana, Punjab)",
          "KERSHASP TEHMURASP SATARAWALA (Goa, Punjab)",
          "ARJUN SINGH (Chandigarh, Punjab)",
          "HOKISHE SEMA (Himachal Pradesh, Punjab)",
          "S. S. RAY (Chandigarh, Punjab)",
          "NIRMAL MUKARJI (Punjab)",
          "VIRENDRA VERMA (Himachal Pradesh, Punjab)",
          "O. P.MALHOTRA (Chandigarh, Punjab)",
          "SURENDRA NATH (Himachal Pradesh, Punjab)",
          "SUDHAKAR PANDITRAO KURDUKAR (Punjab)",
          "B. K. N. CHHIBBER (Chandigarh, Punjab)",
          "AKHLAQUR RAHMAN KIDWAI (Bihar, Haryana, Punjab, Rajasthan, West Bengal)",
          "S. F. RODRIGUES (Chandigarh, Punjab)",
          "KAPTAN SINGH SOLANKI (Chandigarh, Haryana, Punjab, Tripura)",
          "A.N. JHA (Delhi)",
          "M.G. PIMPUTKAR (Delhi)",
          "BALESHWAR PRASAD (Delhi)",
          "KRISHAN CHAND (Delhi)",
          "D.R. KOHLI (Delhi)",
          "P.G. GAVAI (Delhi)",
          "M.M.K. WALI (Delhi)",
          "AVM H.L. KAPUR (Delhi)",
          "ROMESH BHANDARI (Delhi, Goa, Uttar Pradesh)",
          "ACM ARJAN SINGH (Delhi)",
          "MARKANDEY SINGH (Delhi)",
          "P.K. DAVE (Delhi)",
          "TEJENDRA KHANNA (Delhi)",
          "VIJAI KAPOOR (Delhi)",
          "B. L. JOSHI (Delhi, Meghalaya, Uttar Pradesh, Uttarakhand)",
          "NAJEEB JUNG (Delhi)",
          "ANIL BAIJAL (Delhi)",
          "S.L. SILAM (Puducherry)",
          "CHHEDL LAL (Puducherry)",
          "B.T. KULKARNI (Puducherry)",
          "R.K. VYAS (Puducherry)",
          "SADIQALI (Puducherry)",
          "R.N. HALDIPUR (Puducherry)",
          "A.N. BANERJI (Puducherry)",
          "K. PRABHAKARA RAO (Maharashtra, Puducherry, Sikkim)",
          "TRIBHUVAN PRASAD TEWARY (Puducherry)",
          "RAN JIT SINGH DYAL (Puducherry)",
          "CHANDRAVATHI (Puducherry)",
          "HARSWARUP SINGH (Puducherry)",
          "RAJENDRA KUMARI BAJPAI (Puducherry)",
          "RAJANI RAI (Puducherry)",
          "K.R. MALKANI (Puducherry)",
          "P.S. RAMA MOHAN RAO (Puducherry, Tamil Nadu)",
          "NAGENDRA NATH JHA (Puducherry)",
          "MADAN MOHAN LAKHERA (Mizoram, Puducherry)",
          "MUKUT MITHI (Puducherry)",
          "BHOPINDER SINGH (Puducherry)",
          "GOVIND SINGH GURJAR (Puducherry)",
          "IQBAL SINGH (Puducherry)",
          "VIRENDRA KATARIA (Puducherry)",
          "AJAY KUMAR SINGH (Puducherry)",
          "KIRAN BEDI (Puducherry)",
          "BHAIRAB DATT PANDE (Chandigarh, Punjab, West Bengal)",
          "K. T. SATARWALA (Chandigarh)",
          "S. D. SHARMA (Chandigarh)",
          "N. N. MUKARJI (Chandigarh)",
          "VARINDER VERMA (Chandigarh)",
          "SURINDRA NATH (Chandigarh)",
          "SHIVRAJ V. PATIL (Chandigarh, Punjab, Rajasthan)",
          "V.P. SINGH BADNORE (Chandigarh, Punjab)",
          "RADHA KRISHNA MATHUR (Ladakh)",
          "KARAN SINGH (Jammu & Kashmir)",
          "J. N. WAZIR (Jammu & Kashmir)",
          "L. K. JHA (Jammu & Kashmir)",
          "B. K. NEHRU (Assam, Gujarat, Jammu & Kashmir, Manipur, Meghalaya, Nagaland, Tripura)",
          "JAGMOHAN (Delhi, Goa, Jammu & Kashmir)",
          "GIRISH CHANDRA SAXENA (Jammu & Kashmir)",
          "N. N. VOHRA (Jammu & Kashmir)",
          "MANOJ SINHA (Jammu & Kashmir)",
          "D K JOSHI (Andaman & Nicobar Islands)",
          "U.R. PANICKER (Lakshadweep)",
          "S MONY (Lakshadweep)",
          "C.K. BALAKRISHNAN NAIR (Lakshadweep)",
          "M RAMUNNY (Lakshadweep)",
          "C.H NAIRE (Lakshadweep)",
          "K.D MENON (Lakshadweep)",
          "W. SHAIZA (Lakshadweep)",
          "M.C VERMA (Lakshadweep)",
          "S.D. LAKHAR (Lakshadweep)",
          "P.M. NAIR (Lakshadweep)",
          "PARADIP MEHRA (Lakshadweep)",
          "OMESH SAIGAL (Lakshadweep)",
          "J. SAGAR (Lakshadweep)",
          "WAJAHAT HABIBULLA (Lakshadweep)",
          "PRADIP SINGH (Lakshadweep)",
          "S. P. AGGRAWAL (Dadra & Nagar Haveli, Daman & Diu, Lakshadweep)",
          "SATISH CHANDRA (Lakshadweep)",
          "G.S. CHIMA (Lakshadweep)",
          "RAJEEV TALWAR (Lakshadweep)",
          "CHAMAN LAL (Lakshadweep)",
          "R.K. VARMA (Lakshadweep)",
          "K.S. MEHRA (Lakshadweep)",
          "S.P. SINGH (Lakshadweep)",
          "PARIMAL RAI (Lakshadweep)",
          "RAJENDRA KUMAR (Lakshadweep)",
          "B.V. SELVARAJ (Lakshadweep)",
          "SATYA GOPAL (Dadra & Nagar Haveli, Daman & Diu, Lakshadweep)",
          "J.K. DADOO (Lakshadweep)",
          "AMARNATH (Lakshadweep)",
          "H.RAJESH PRASAD (Lakshadweep)",
          "VIJAY KUMAR  (Lakshadweep)",
          "FAROOQ KHAN (Lakshadweep)",
          "DINESHWAR SHARMA (Lakshadweep)",
          "K. S. BAIDWAN (Dadra & Nagar Haveli, Daman & Diu)",
          "RAMESH CHANDRA (Dadra & Nagar Haveli, Daman & Diu)",
          "SANAT KAUL (Dadra & Nagar Haveli, Daman & Diu)",
          "RAMESH NEGI (Dadra & Nagar Haveli, Daman & Diu)",
          "O. P. KELKAR (Dadra & Nagar Haveli, Daman & Diu)",
          "ARUN MATHUR (Dadra & Nagar Haveli, Daman & Diu)",
          "V. K. SINGH (Dadra & Nagar Haveli, Daman & Diu)",
          "DHARMENDRA (Dadra & Nagar Haveli, Daman & Diu)",
          "R. K. VERMA (Dadra & Nagar Haveli, Daman & Diu)",
          "NARENDRA KUMAR (Dadra & Nagar Haveli, Daman & Diu)",
          "B. S. BHALLA (Dadra & Nagar Haveli, Daman & Diu)",
          "ASHISH KUNDRA (Dadra & Nagar Haveli, Daman & Diu)",
          "VIKRAM DEV DUTT (Dadra & Nagar Haveli, Daman & Diu)",
          "PRAFUL PATEL (Dadra & Nagar Haveli, Dadra & Nagar Haveli & Daman & Diu, Daman & Diu)"
         ],
         "type": "scatter",
         "x": [
          1,
          2,
          4,
          6,
          7,
          8,
          10,
          11,
          14,
          15,
          21,
          25,
          28,
          29,
          31,
          32,
          33,
          36,
          39,
          40,
          41,
          42,
          43,
          44,
          45,
          47,
          48,
          50,
          51,
          53,
          54,
          55,
          62,
          64,
          69,
          70,
          71,
          72,
          73,
          77,
          80,
          87,
          89,
          91,
          92,
          93,
          94,
          96,
          97,
          98,
          99,
          100,
          102,
          104,
          106,
          107,
          110,
          111,
          112,
          114,
          115,
          116,
          117,
          118,
          119,
          120,
          121,
          122,
          125,
          126,
          131,
          132,
          135,
          136,
          139,
          140,
          141,
          142,
          143,
          144,
          145,
          146,
          147,
          149,
          150,
          151,
          152,
          154,
          155,
          156,
          158,
          159,
          160,
          162,
          163,
          164,
          165,
          167,
          168,
          169,
          170,
          171,
          173,
          174,
          175,
          177,
          178,
          180,
          184,
          185,
          186,
          187,
          189,
          190,
          191,
          192,
          193,
          195,
          196,
          197,
          198,
          199,
          202,
          204,
          205,
          206,
          210,
          211,
          212,
          214,
          216,
          217,
          218,
          219,
          220,
          222,
          224,
          226,
          227,
          230,
          232,
          237,
          238,
          239,
          240,
          241,
          242,
          243,
          244,
          245,
          250,
          251,
          252,
          253,
          254,
          255,
          259,
          260,
          261,
          262,
          263,
          264,
          265,
          266,
          267,
          269,
          270,
          276,
          277,
          278,
          279,
          281,
          282,
          283,
          285,
          286,
          287,
          293,
          294,
          296,
          298,
          299,
          301,
          302,
          303,
          304,
          306,
          311,
          312,
          314,
          315,
          316,
          317,
          320,
          321,
          324,
          326,
          327,
          328,
          330,
          331,
          332,
          338,
          340,
          343,
          344,
          345,
          346,
          347,
          348,
          350,
          351,
          352,
          353,
          354,
          357,
          358,
          359,
          361,
          362,
          363,
          368,
          369,
          371,
          372,
          373,
          376,
          378,
          380,
          381,
          383,
          384,
          388,
          391,
          392,
          393,
          396,
          399,
          400,
          401,
          402,
          403,
          405,
          406,
          407,
          408,
          409,
          411,
          412,
          413,
          414,
          418,
          419,
          421,
          422,
          424,
          426,
          427,
          429,
          431,
          433,
          435,
          436,
          437,
          438,
          439,
          440,
          441,
          442,
          443,
          445,
          447,
          448,
          449,
          451,
          452,
          453,
          454,
          456,
          461,
          464,
          467,
          468,
          475,
          476,
          478,
          482,
          483,
          484,
          485,
          486,
          487,
          488,
          490,
          491,
          492,
          493,
          494,
          499,
          500,
          501,
          503,
          504,
          507,
          508,
          512,
          521,
          523,
          524,
          526,
          529,
          538,
          539,
          540,
          541,
          542,
          543,
          544,
          545,
          546,
          550,
          554,
          555,
          556,
          559,
          560,
          563,
          564,
          567,
          569,
          570,
          573,
          574,
          577,
          578,
          581,
          582,
          583,
          584,
          586,
          590,
          591,
          593,
          595,
          596,
          597,
          599,
          600,
          603,
          604,
          605,
          607,
          608,
          612,
          614,
          616,
          617,
          619,
          621,
          622,
          623,
          627,
          628,
          631,
          632,
          633,
          635,
          636,
          637,
          639,
          640,
          641,
          642,
          645,
          646,
          647,
          648,
          652,
          655,
          656,
          657,
          659,
          660,
          661,
          662,
          663,
          664,
          665,
          668,
          669,
          671,
          673,
          674,
          675,
          676,
          677,
          681,
          682,
          683,
          684,
          685,
          686,
          687,
          688,
          689,
          690,
          692,
          693,
          694,
          696,
          697,
          698,
          699,
          700,
          702,
          703,
          705,
          706,
          707,
          708,
          710,
          711,
          712,
          713,
          714,
          715,
          716,
          717,
          718,
          720,
          721,
          722,
          723,
          724,
          725,
          727,
          729,
          730,
          732,
          737,
          739,
          740,
          741,
          742,
          744,
          745,
          746,
          750,
          752,
          755,
          756,
          757,
          758,
          759,
          760,
          761,
          762,
          763,
          764,
          765,
          766,
          767,
          768,
          769,
          770,
          771,
          772,
          773,
          774,
          775,
          777,
          778,
          779,
          780,
          781,
          782,
          783,
          784,
          785,
          786,
          787,
          788,
          789,
          790,
          791,
          792,
          795,
          796,
          797,
          798,
          799,
          800,
          801,
          803,
          804,
          805,
          806,
          808
         ],
         "y": [
          1540,
          121,
          222,
          1581,
          131,
          110,
          1208,
          47,
          2384,
          51,
          27,
          17,
          278,
          629,
          4026,
          1855,
          356,
          1826,
          1439,
          1917,
          1844,
          1907,
          1957,
          1817,
          2460,
          1526,
          232,
          243,
          784,
          1832,
          535,
          1831,
          3115,
          1837,
          715,
          1981,
          2348,
          1473,
          1107,
          852,
          2359,
          382,
          2505,
          840,
          54,
          831,
          1894,
          2082,
          1776,
          710,
          92,
          243,
          28,
          20,
          992,
          1943,
          797,
          2306,
          20,
          3632,
          299,
          462,
          2581,
          1962,
          1838,
          1945,
          718,
          1933,
          583,
          4071,
          1908,
          676,
          1902,
          729,
          2258,
          177,
          1826,
          475,
          2772,
          1991,
          1825,
          1867,
          33,
          1689,
          85,
          1549,
          209,
          26,
          1797,
          15,
          127,
          695,
          709,
          10,
          557,
          528,
          3825,
          1765,
          22,
          236,
          1843,
          131,
          291,
          3389,
          957,
          803,
          3066,
          697,
          1858,
          2026,
          522,
          1253,
          410,
          2292,
          785,
          2091,
          1848,
          18,
          1279,
          8,
          1978,
          2617,
          4736,
          2807,
          1620,
          2716,
          2230,
          1828,
          1125,
          1833,
          1969,
          1840,
          1887,
          135,
          1249,
          2445,
          1778,
          1073,
          2750,
          1842,
          2015,
          1241,
          1606,
          919,
          580,
          4250,
          172,
          690,
          1820,
          2480,
          1488,
          706,
          1069,
          4841,
          787,
          1188,
          603,
          895,
          5011,
          1742,
          3862,
          1326,
          701,
          2269,
          1406,
          540,
          4903,
          200,
          1837,
          1967,
          1618,
          513,
          224,
          2798,
          6,
          2207,
          2411,
          60,
          1971,
          28,
          311,
          1233,
          1840,
          360,
          58,
          1825,
          1826,
          1872,
          1916,
          1328,
          284,
          195,
          2135,
          296,
          1033,
          33,
          67,
          1721,
          1922,
          1090,
          2745,
          1976,
          1829,
          2038,
          940,
          4872,
          1615,
          1846,
          1770,
          2034,
          10,
          734,
          1473,
          959,
          261,
          1077,
          333,
          4,
          2161,
          14,
          362,
          204,
          47,
          838,
          2003,
          451,
          1831,
          1827,
          675,
          103,
          697,
          514,
          1864,
          851,
          445,
          160,
          1822,
          1485,
          2047,
          1035,
          3146,
          3167,
          8,
          1349,
          2214,
          1888,
          597,
          39,
          1400,
          4491,
          23,
          138,
          149,
          19,
          414,
          157,
          859,
          1673,
          1898,
          1828,
          1960,
          470,
          800,
          7714,
          201,
          1097,
          1798,
          1847,
          92,
          943,
          1893,
          1041,
          1753,
          277,
          1074,
          2276,
          1826,
          287,
          415,
          1348,
          1804,
          2834,
          1909,
          1586,
          5786,
          14409,
          704,
          2903,
          785,
          829,
          1902,
          1831,
          3180,
          1601,
          621,
          2245,
          2997,
          551,
          214,
          3424,
          669,
          1072,
          2326,
          1822,
          14,
          514,
          1920,
          151,
          286,
          4447,
          1833,
          1238,
          169,
          451,
          463,
          73,
          782,
          2038,
          1825,
          1230,
          1395,
          1112,
          2243,
          1313,
          92,
          3102,
          1091,
          3959,
          794,
          1260,
          1889,
          3435,
          1864,
          2480,
          350,
          77,
          467,
          1826,
          380,
          1534,
          3733,
          451,
          858,
          519,
          3540,
          473,
          1125,
          2095,
          831,
          1972,
          2033,
          1830,
          1848,
          909,
          1948,
          435,
          1909,
          1078,
          1178,
          2063,
          1255,
          342,
          1684,
          1894,
          1139,
          1825,
          1817,
          1862,
          1174,
          3872,
          1477,
          2019,
          485,
          137,
          2044,
          1564,
          162,
          93,
          749,
          490,
          1068,
          2692,
          188,
          958,
          464,
          1302,
          70,
          3792,
          6038,
          3786,
          2984,
          1960,
          95,
          892,
          908,
          1052,
          191,
          376,
          991,
          1500,
          368,
          504,
          1706,
          2753,
          2241,
          3670,
          1262,
          1454,
          1826,
          1390,
          1523,
          267,
          101,
          291,
          26,
          942,
          1359,
          607,
          302,
          779,
          1086,
          1558,
          453,
          1678,
          183,
          2605,
          602,
          129,
          257,
          1444,
          366,
          682,
          1670,
          1056,
          254,
          127,
          188,
          186,
          1067,
          4394,
          3170,
          420,
          2541,
          61,
          2795,
          8962,
          3426,
          2881,
          3709,
          139,
          1173,
          6,
          682,
          1170,
          1219,
          1666,
          1276,
          760,
          603,
          524,
          1050,
          401,
          1084,
          791,
          876,
          89,
          2884,
          858,
          644,
          1034,
          618,
          128,
          1097,
          153,
          627,
          132,
          876,
          2312,
          702,
          480,
          1082,
          316,
          1144,
          406,
          1484,
          948,
          118,
          660,
          2424,
          2200,
          382,
          12,
          1214,
          1080,
          1438,
          1146,
          336,
          2823
         ]
        }
       ],
       "layout": {
        "template": {
         "data": {
          "bar": [
           {
            "error_x": {
             "color": "#2a3f5f"
            },
            "error_y": {
             "color": "#2a3f5f"
            },
            "marker": {
             "line": {
              "color": "#E5ECF6",
              "width": 0.5
             }
            },
            "type": "bar"
           }
          ],
          "barpolar": [
           {
            "marker": {
             "line": {
              "color": "#E5ECF6",
              "width": 0.5
             }
            },
            "type": "barpolar"
           }
          ],
          "carpet": [
           {
            "aaxis": {
             "endlinecolor": "#2a3f5f",
             "gridcolor": "white",
             "linecolor": "white",
             "minorgridcolor": "white",
             "startlinecolor": "#2a3f5f"
            },
            "baxis": {
             "endlinecolor": "#2a3f5f",
             "gridcolor": "white",
             "linecolor": "white",
             "minorgridcolor": "white",
             "startlinecolor": "#2a3f5f"
            },
            "type": "carpet"
           }
          ],
          "choropleth": [
           {
            "colorbar": {
             "outlinewidth": 0,
             "ticks": ""
            },
            "type": "choropleth"
           }
          ],
          "contour": [
           {
            "colorbar": {
             "outlinewidth": 0,
             "ticks": ""
            },
            "colorscale": [
             [
              0,
              "#0d0887"
             ],
             [
              0.1111111111111111,
              "#46039f"
             ],
             [
              0.2222222222222222,
              "#7201a8"
             ],
             [
              0.3333333333333333,
              "#9c179e"
             ],
             [
              0.4444444444444444,
              "#bd3786"
             ],
             [
              0.5555555555555556,
              "#d8576b"
             ],
             [
              0.6666666666666666,
              "#ed7953"
             ],
             [
              0.7777777777777778,
              "#fb9f3a"
             ],
             [
              0.8888888888888888,
              "#fdca26"
             ],
             [
              1,
              "#f0f921"
             ]
            ],
            "type": "contour"
           }
          ],
          "contourcarpet": [
           {
            "colorbar": {
             "outlinewidth": 0,
             "ticks": ""
            },
            "type": "contourcarpet"
           }
          ],
          "heatmap": [
           {
            "colorbar": {
             "outlinewidth": 0,
             "ticks": ""
            },
            "colorscale": [
             [
              0,
              "#0d0887"
             ],
             [
              0.1111111111111111,
              "#46039f"
             ],
             [
              0.2222222222222222,
              "#7201a8"
             ],
             [
              0.3333333333333333,
              "#9c179e"
             ],
             [
              0.4444444444444444,
              "#bd3786"
             ],
             [
              0.5555555555555556,
              "#d8576b"
             ],
             [
              0.6666666666666666,
              "#ed7953"
             ],
             [
              0.7777777777777778,
              "#fb9f3a"
             ],
             [
              0.8888888888888888,
              "#fdca26"
             ],
             [
              1,
              "#f0f921"
             ]
            ],
            "type": "heatmap"
           }
          ],
          "heatmapgl": [
           {
            "colorbar": {
             "outlinewidth": 0,
             "ticks": ""
            },
            "colorscale": [
             [
              0,
              "#0d0887"
             ],
             [
              0.1111111111111111,
              "#46039f"
             ],
             [
              0.2222222222222222,
              "#7201a8"
             ],
             [
              0.3333333333333333,
              "#9c179e"
             ],
             [
              0.4444444444444444,
              "#bd3786"
             ],
             [
              0.5555555555555556,
              "#d8576b"
             ],
             [
              0.6666666666666666,
              "#ed7953"
             ],
             [
              0.7777777777777778,
              "#fb9f3a"
             ],
             [
              0.8888888888888888,
              "#fdca26"
             ],
             [
              1,
              "#f0f921"
             ]
            ],
            "type": "heatmapgl"
           }
          ],
          "histogram": [
           {
            "marker": {
             "colorbar": {
              "outlinewidth": 0,
              "ticks": ""
             }
            },
            "type": "histogram"
           }
          ],
          "histogram2d": [
           {
            "colorbar": {
             "outlinewidth": 0,
             "ticks": ""
            },
            "colorscale": [
             [
              0,
              "#0d0887"
             ],
             [
              0.1111111111111111,
              "#46039f"
             ],
             [
              0.2222222222222222,
              "#7201a8"
             ],
             [
              0.3333333333333333,
              "#9c179e"
             ],
             [
              0.4444444444444444,
              "#bd3786"
             ],
             [
              0.5555555555555556,
              "#d8576b"
             ],
             [
              0.6666666666666666,
              "#ed7953"
             ],
             [
              0.7777777777777778,
              "#fb9f3a"
             ],
             [
              0.8888888888888888,
              "#fdca26"
             ],
             [
              1,
              "#f0f921"
             ]
            ],
            "type": "histogram2d"
           }
          ],
          "histogram2dcontour": [
           {
            "colorbar": {
             "outlinewidth": 0,
             "ticks": ""
            },
            "colorscale": [
             [
              0,
              "#0d0887"
             ],
             [
              0.1111111111111111,
              "#46039f"
             ],
             [
              0.2222222222222222,
              "#7201a8"
             ],
             [
              0.3333333333333333,
              "#9c179e"
             ],
             [
              0.4444444444444444,
              "#bd3786"
             ],
             [
              0.5555555555555556,
              "#d8576b"
             ],
             [
              0.6666666666666666,
              "#ed7953"
             ],
             [
              0.7777777777777778,
              "#fb9f3a"
             ],
             [
              0.8888888888888888,
              "#fdca26"
             ],
             [
              1,
              "#f0f921"
             ]
            ],
            "type": "histogram2dcontour"
           }
          ],
          "mesh3d": [
           {
            "colorbar": {
             "outlinewidth": 0,
             "ticks": ""
            },
            "type": "mesh3d"
           }
          ],
          "parcoords": [
           {
            "line": {
             "colorbar": {
              "outlinewidth": 0,
              "ticks": ""
             }
            },
            "type": "parcoords"
           }
          ],
          "pie": [
           {
            "automargin": true,
            "type": "pie"
           }
          ],
          "scatter": [
           {
            "marker": {
             "colorbar": {
              "outlinewidth": 0,
              "ticks": ""
             }
            },
            "type": "scatter"
           }
          ],
          "scatter3d": [
           {
            "line": {
             "colorbar": {
              "outlinewidth": 0,
              "ticks": ""
             }
            },
            "marker": {
             "colorbar": {
              "outlinewidth": 0,
              "ticks": ""
             }
            },
            "type": "scatter3d"
           }
          ],
          "scattercarpet": [
           {
            "marker": {
             "colorbar": {
              "outlinewidth": 0,
              "ticks": ""
             }
            },
            "type": "scattercarpet"
           }
          ],
          "scattergeo": [
           {
            "marker": {
             "colorbar": {
              "outlinewidth": 0,
              "ticks": ""
             }
            },
            "type": "scattergeo"
           }
          ],
          "scattergl": [
           {
            "marker": {
             "colorbar": {
              "outlinewidth": 0,
              "ticks": ""
             }
            },
            "type": "scattergl"
           }
          ],
          "scattermapbox": [
           {
            "marker": {
             "colorbar": {
              "outlinewidth": 0,
              "ticks": ""
             }
            },
            "type": "scattermapbox"
           }
          ],
          "scatterpolar": [
           {
            "marker": {
             "colorbar": {
              "outlinewidth": 0,
              "ticks": ""
             }
            },
            "type": "scatterpolar"
           }
          ],
          "scatterpolargl": [
           {
            "marker": {
             "colorbar": {
              "outlinewidth": 0,
              "ticks": ""
             }
            },
            "type": "scatterpolargl"
           }
          ],
          "scatterternary": [
           {
            "marker": {
             "colorbar": {
              "outlinewidth": 0,
              "ticks": ""
             }
            },
            "type": "scatterternary"
           }
          ],
          "surface": [
           {
            "colorbar": {
             "outlinewidth": 0,
             "ticks": ""
            },
            "colorscale": [
             [
              0,
              "#0d0887"
             ],
             [
              0.1111111111111111,
              "#46039f"
             ],
             [
              0.2222222222222222,
              "#7201a8"
             ],
             [
              0.3333333333333333,
              "#9c179e"
             ],
             [
              0.4444444444444444,
              "#bd3786"
             ],
             [
              0.5555555555555556,
              "#d8576b"
             ],
             [
              0.6666666666666666,
              "#ed7953"
             ],
             [
              0.7777777777777778,
              "#fb9f3a"
             ],
             [
              0.8888888888888888,
              "#fdca26"
             ],
             [
              1,
              "#f0f921"
             ]
            ],
            "type": "surface"
           }
          ],
          "table": [
           {
            "cells": {
             "fill": {
              "color": "#EBF0F8"
             },
             "line": {
              "color": "white"
             }
            },
            "header": {
             "fill": {
              "color": "#C8D4E3"
             },
             "line": {
              "color": "white"
             }
            },
            "type": "table"
           }
          ]
         },
         "layout": {
          "annotationdefaults": {
           "arrowcolor": "#2a3f5f",
           "arrowhead": 0,
           "arrowwidth": 1
          },
          "autotypenumbers": "strict",
          "coloraxis": {
           "colorbar": {
            "outlinewidth": 0,
            "ticks": ""
           }
          },
          "colorscale": {
           "diverging": [
            [
             0,
             "#8e0152"
            ],
            [
             0.1,
             "#c51b7d"
            ],
            [
             0.2,
             "#de77ae"
            ],
            [
             0.3,
             "#f1b6da"
            ],
            [
             0.4,
             "#fde0ef"
            ],
            [
             0.5,
             "#f7f7f7"
            ],
            [
             0.6,
             "#e6f5d0"
            ],
            [
             0.7,
             "#b8e186"
            ],
            [
             0.8,
             "#7fbc41"
            ],
            [
             0.9,
             "#4d9221"
            ],
            [
             1,
             "#276419"
            ]
           ],
           "sequential": [
            [
             0,
             "#0d0887"
            ],
            [
             0.1111111111111111,
             "#46039f"
            ],
            [
             0.2222222222222222,
             "#7201a8"
            ],
            [
             0.3333333333333333,
             "#9c179e"
            ],
            [
             0.4444444444444444,
             "#bd3786"
            ],
            [
             0.5555555555555556,
             "#d8576b"
            ],
            [
             0.6666666666666666,
             "#ed7953"
            ],
            [
             0.7777777777777778,
             "#fb9f3a"
            ],
            [
             0.8888888888888888,
             "#fdca26"
            ],
            [
             1,
             "#f0f921"
            ]
           ],
           "sequentialminus": [
            [
             0,
             "#0d0887"
            ],
            [
             0.1111111111111111,
             "#46039f"
            ],
            [
             0.2222222222222222,
             "#7201a8"
            ],
            [
             0.3333333333333333,
             "#9c179e"
            ],
            [
             0.4444444444444444,
             "#bd3786"
            ],
            [
             0.5555555555555556,
             "#d8576b"
            ],
            [
             0.6666666666666666,
             "#ed7953"
            ],
            [
             0.7777777777777778,
             "#fb9f3a"
            ],
            [
             0.8888888888888888,
             "#fdca26"
            ],
            [
             1,
             "#f0f921"
            ]
           ]
          },
          "colorway": [
           "#636efa",
           "#EF553B",
           "#00cc96",
           "#ab63fa",
           "#FFA15A",
           "#19d3f3",
           "#FF6692",
           "#B6E880",
           "#FF97FF",
           "#FECB52"
          ],
          "font": {
           "color": "#2a3f5f"
          },
          "geo": {
           "bgcolor": "white",
           "lakecolor": "white",
           "landcolor": "#E5ECF6",
           "showlakes": true,
           "showland": true,
           "subunitcolor": "white"
          },
          "hoverlabel": {
           "align": "left"
          },
          "hovermode": "closest",
          "mapbox": {
           "style": "light"
          },
          "paper_bgcolor": "white",
          "plot_bgcolor": "#E5ECF6",
          "polar": {
           "angularaxis": {
            "gridcolor": "white",
            "linecolor": "white",
            "ticks": ""
           },
           "bgcolor": "#E5ECF6",
           "radialaxis": {
            "gridcolor": "white",
            "linecolor": "white",
            "ticks": ""
           }
          },
          "scene": {
           "xaxis": {
            "backgroundcolor": "#E5ECF6",
            "gridcolor": "white",
            "gridwidth": 2,
            "linecolor": "white",
            "showbackground": true,
            "ticks": "",
            "zerolinecolor": "white"
           },
           "yaxis": {
            "backgroundcolor": "#E5ECF6",
            "gridcolor": "white",
            "gridwidth": 2,
            "linecolor": "white",
            "showbackground": true,
            "ticks": "",
            "zerolinecolor": "white"
           },
           "zaxis": {
            "backgroundcolor": "#E5ECF6",
            "gridcolor": "white",
            "gridwidth": 2,
            "linecolor": "white",
            "showbackground": true,
            "ticks": "",
            "zerolinecolor": "white"
           }
          },
          "shapedefaults": {
           "line": {
            "color": "#2a3f5f"
           }
          },
          "ternary": {
           "aaxis": {
            "gridcolor": "white",
            "linecolor": "white",
            "ticks": ""
           },
           "baxis": {
            "gridcolor": "white",
            "linecolor": "white",
            "ticks": ""
           },
           "bgcolor": "#E5ECF6",
           "caxis": {
            "gridcolor": "white",
            "linecolor": "white",
            "ticks": ""
           }
          },
          "title": {
           "x": 0.05
          },
          "xaxis": {
           "automargin": true,
           "gridcolor": "white",
           "linecolor": "white",
           "ticks": "",
           "title": {
            "standoff": 15
           },
           "zerolinecolor": "white",
           "zerolinewidth": 2
          },
          "yaxis": {
           "automargin": true,
           "gridcolor": "white",
           "linecolor": "white",
           "ticks": "",
           "title": {
            "standoff": 15
           },
           "zerolinecolor": "white",
           "zerolinewidth": 2
          }
         }
        }
       }
      },
      "text/html": [
       "<div>                            <div id=\"d4eef464-9297-441a-b79b-a93a5efb4be6\" class=\"plotly-graph-div\" style=\"height:525px; width:100%;\"></div>            <script type=\"text/javascript\">                require([\"plotly\"], function(Plotly) {                    window.PLOTLYENV=window.PLOTLYENV || {};                                    if (document.getElementById(\"d4eef464-9297-441a-b79b-a93a5efb4be6\")) {                    Plotly.newPlot(                        \"d4eef464-9297-441a-b79b-a93a5efb4be6\",                        [{\"hovertemplate\": \"<b>ID</b>: %{x}<br><b>Total Duration</b>: %{y} days<br><b>Name</b>: %{text}<extra></extra>\", \"text\": [\"ROBERT NIEL REID (Assam)\", \"GILBERT PITCHIN HOGG (Assam)\", \"HENRY JOSEPH TWYNAM (Assam)\", \"ANDREW GOURLAY CLOW  (Assam)\", \"FREDERICK CHALMERS BOURNE  (Assam)\", \"HENRY FOLEY KNIGHT (Assam)\", \"AKBAR HAIDARI (Assam, Meghalaya)\", \"RONALD FRANCIS LODGE (Assam)\", \"SAIYID FAZI ALI (Assam, Meghalaya)\", \"CHANDRESWAR PRASAD SINGHA (Assam)\", \"P.K. GOSWAMI (Assam)\", \"T.S. MISRA (Assam)\", \"ANISETTI ROGHUVIR (Assam)\", \"D.D. THAKUR (Arunachal Pradesh, Assam)\", \"S K SINHA (Arunachal Pradesh, Assam, Jammu & Kashmir)\", \"AJAI SINGH (Assam)\", \"SHIV CHARAN MATHUR (Assam)\", \"JANAKI BALLAV PATNAIK (Assam)\", \"JAGDISH MUKHI (Assam, Manipur, Mizoram)\", \"MEHDI NAWAZ JUNG (Gujarat)\", \"NITYANAND KANUNGO (Bihar, Gujarat)\", \"SHRIMAN NARAYAN (Gujarat)\", \"KK VISWANATHAN (Gujarat)\", \"SHARDA MUKERJEE (Gujarat)\", \"K.M. CHANDY (Gujarat, Madhya Pradesh, Puducherry)\", \"RAM KRISHNA TRIVEDI (Gujarat)\", \"MAHIPALSINGH SHASTRI (Gujarat)\", \"NARESH CHANDRA SAXENA (Gujarat)\", \"KRISHNA PAL SINGH (Gujarat)\", \"SUNDER SINGH BHANDARI (Bihar, Gujarat)\", \"KAILASHPATI MISHRA (Gujarat, Rajasthan)\", \"NAWAL KISHORE SHARMA (Gujarat)\", \"B.N. CHAKRABORTY (Haryana)\", \"JAISUKH LAL HATHI (Haryana, Punjab)\", \"HARI ANAND BARARI (Haryana)\", \"DHANIKLAL MANDAL (Haryana, Rajasthan)\", \"MAHABIR PRASAD (Haryana, Himachal Pradesh)\", \"BABU PARMANAND (Haryana)\", \"O. P. VERMA (Chandigarh, Haryana, Punjab)\", \"SATYADEO NARAIN ARYA (Haryana)\", \"JAYACHAMARAJENDRA WODEYER (Karnataka)\", \"MANGALADAS PAKVAS (Karnataka)\", \"S.M. SHRINAGESH (Andhra Pradesh, Assam, Karnataka, Meghalaya)\", \"G.S.PATHAK (Karnataka)\", \"SOMANATH IYER (Karnataka)\", \"DHARMAVEERA (Karnataka)\", \"MOHANLAL SUKHADIA (Andhra Pradesh, Karnataka, Tamil Nadu)\", \"GOVINDNARAYANAN (Karnataka)\", \"ASHOKNATH BANERJEE (Karnataka)\", \"P.VENKATASUBBAYYA (Karnataka)\", \"S.MOHAN (Karnataka)\", \"BHANUPRATAP SINGH (Karnataka)\", \"S.P.BARUCHA (Karnataka)\", \"M.L.PENDSE (Karnataka)\", \"V.S.RAMADEVI (Karnataka)\", \"TRILOKI NATH CHATURVEDI (Karnataka, Kerala)\", \"K. ROSAIAH (Karnataka, Tamil Nadu)\", \"VAJUBHAI VALA (Karnataka)\", \"P.S. RAO (Kerala)\", \"VARAHGIRI VENKAT GIRI (Karnataka, Kerala, Uttar Pradesh)\", \"A.P. JAIN (Kerala)\", \"BHAGAVAN SAHAY (Kerala)\", \"V.VISHWANATHAN (Himachal Pradesh, Kerala)\", \"NIRANJAN NATH WANCHOO (Kerala, Madhya Pradesh)\", \"JOTHI VENKATACHELLUM (Kerala)\", \"P. RAMACHANDRAN (Kerala)\", \"RAMDULARI SINHA (Kerala)\", \"SARUP SINGH (Gujarat, Kerala)\", \"P. SHIV SHANKAR (Kerala, Sikkim)\", \"KHURSHED ALAM KHAN (Goa, Karnataka, Kerala)\", \"SUKHDEV SINGH KANG (Kerala)\", \"SIKANDER BAKHT (Kerala)\", \"R. S. GAVAI (Bihar, Kerala)\", \"M.O.H. FAROOK (Jharkhand, Kerala)\", \"H.R. BHARDWAJ (Karnataka, Kerala)\", \"SHEILA DIKSHIT (Kerala)\", \"P. SATHASIVAM (Kerala)\", \"ARIF MOHAMMED KHAN (Kerala)\", \"RAJ PRAMUKH SAWAI SH. MANSINGH (Rajasthan)\", \"GURUMUKH NIHAL SINGH (Rajasthan)\", \"SAMPURNANAND (Rajasthan)\", \"HUKUM SINGH (Rajasthan)\", \"JAGAT NARAIN (Rajasthan)\", \"JOGINDER SINGH (Rajasthan)\", \"VEDPAL TYAGI (Rajasthan)\", \"RAGHUKUL TILAK (Rajasthan)\", \"K.D. SHARMA (Rajasthan)\", \"P.K. BANERJEE (Rajasthan)\", \"O. P. MEHRA (Maharashtra, Rajasthan)\", \"D.P. GUPTA (Rajasthan)\", \"VASANT RAO PATIL (Rajasthan)\", \"SUKHDEV PRASAD (Rajasthan)\", \"JAGDISH SHARAN VERMA (Rajasthan)\", \"MILAP CHAND JAIN (Rajasthan)\", \"DEVI PRASAD CHATTOPADHYAY (Rajasthan)\", \"SWAROOP SINGH (Rajasthan)\", \"M. CHANNA REDDY (Puducherry, Punjab, Rajasthan, Tamil Nadu, Uttar Pradesh)\", \"BALIRAM BHAGAT (Rajasthan)\", \"SARDAR DARBARA SINGH (Rajasthan)\", \"N.L. TIBREWAL (Rajasthan)\", \"ANSHUMAN SINGH (Gujarat, Rajasthan)\", \"NIRMAL CHANDRA JAIN (Rajasthan)\", \"MADAN LAL KHURANA (Rajasthan)\", \"T.V. RAJESWAR (Rajasthan, Sikkim, Uttar Pradesh, West Bengal)\", \"PRATIBHA PATIL (Rajasthan)\", \"SHILENDRA KUMAR SINGH (Rajasthan)\", \"RAMESHWAR THAKUR (Andhra Pradesh, Karnataka, Madhya Pradesh, Odisha, Rajasthan)\", \"PRABHA RAU (Himachal Pradesh, Rajasthan)\", \"RAM NAIK (Rajasthan, Uttar Pradesh)\", \"KALYAN SINGH (Himachal Pradesh, Rajasthan)\", \"KALRAJ MISHRA (Himachal Pradesh, Rajasthan)\", \"KRISHNA KUMARSINGJI BHAVSINGJI (Tamil Nadu)\", \"A.J. JOHN (Tamil Nadu)\", \"BISNURAM MEDHI (Tamil Nadu)\", \"JAYACHAMARAJA WADIYAR BAHADUR (Tamil Nadu)\", \"SARDAR UJJAL SINGH (Punjab, Tamil Nadu)\", \"K.K.SHAH (Tamil Nadu)\", \"P. GOVINDAN NAIR (Tamil Nadu)\", \"PRABHUDAS B.PATWARI (Tamil Nadu)\", \"M.M.ISMAIL (Tamil Nadu)\", \"SADIQ ALI (Maharashtra, Tamil Nadu)\", \"S.L. KHURANA (Delhi, Puducherry, Tamil Nadu)\", \"BHISHMA N. SINGH (Arunachal Pradesh, Assam, Meghalaya, Sikkim, Tamil Nadu)\", \"KRISHAN KANT (Andhra Pradesh, Tamil Nadu)\", \"M.FATHIMA BEEVI (Tamil Nadu)\", \"C. RANGARAJAN (Andhra Pradesh, Kerala, Odisha, Tamil Nadu)\", \"CHENNAMANENI VIDYASAGAR RAO (Maharashtra, Tamil Nadu)\", \"BANWARILAL PUROHIT (Assam, Meghalaya, Tamil Nadu)\", \"H.P. MODI (Uttar Pradesh)\", \"KANHAIYALAL MANEKLAL MUNSHI (Uttar Pradesh)\", \"B. RAMAKRISHNA RAO (Kerala, Uttar Pradesh)\", \"BISHWANATH DAS (Uttar Pradesh)\", \"BEZWADA GOPALA REDDY (Uttar Pradesh)\", \"SHASHI KANTA VERMA (Uttar Pradesh)\", \"AKBAR ALI KHAN (Odisha, Uttar Pradesh)\", \"GANPATRAO DEVJI TAPASE (Haryana, Uttar Pradesh)\", \"MOHAMMAD USMAN ARIF (Uttar Pradesh)\", \"MOTILAL VORA (Uttar Pradesh)\", \"MOHAMMAD SHAFI QURESHI (Bihar, Madhya Pradesh, Uttar Pradesh)\", \"SURAJ BHAN (Himachal Pradesh, Uttar Pradesh)\", \"SUDARSHAN AGARWAL (Sikkim, Uttar Pradesh, Uttarakhand)\", \"ANANDIBEN PATEL (Madhya Pradesh, Uttar Pradesh)\", \"RAJA MAHARAJ SINGH (Maharashtra)\", \"GIRIJA SHANKAR BAJPAI (Maharashtra)\", \"HARE KRISHNA MAHTAB (Maharashtra)\", \"SRI PRAKASA (Assam, Maharashtra, Meghalaya, Tamil Nadu)\", \"P. SUBBARAYAN (Maharashtra)\", \"VIJAYALAKSHMI PANDIT (Maharashtra)\", \"P. V. CHERIAN (Maharashtra)\", \"ALI YAVAR JUNG (Maharashtra)\", \"SHANKAR DAYAL SHARMA (Andhra Pradesh, Madhya Pradesh, Maharashtra, Punjab)\", \"BRAHMANANDA REDDY (Maharashtra)\", \"C. SUBRAMANIAM (Maharashtra)\", \"P. C. ALEXANDER (Goa, Maharashtra, Tamil Nadu)\", \"MOHAMMED FAZAL (Maharashtra)\", \"S. M. KRISHNA (Maharashtra)\", \"BHAGAT SINGH KOSHYARI (Goa, Maharashtra)\", \"CHAKRAVARTI RAJAGOPALACHARI (West Bengal)\", \"KAILASH NATH KATJU (West Bengal)\", \"HARENDRA COOMAR MOOKERJEE (West Bengal)\", \"PADMAJA NAIDU (West Bengal)\", \"DHARMA VIRA (Haryana, Punjab, West Bengal)\", \"SHANTI SWARUP DHAWAN (West Bengal)\", \"ANTHONY LANCELOT DIAS (West Bengal)\", \"TRIBHUVAN NARAYAN SINGH (West Bengal)\", \"ANANT PRASAD SHARMA (Punjab, West Bengal)\", \"UMA SHANKAR DIKSHIT (Karnataka, West Bengal)\", \"SHYAMAL KUMAR SEN (West Bengal)\", \"VIREN J. SHAH (West Bengal)\", \"GOPALKRISHNA GANDHI (Bihar, West Bengal)\", \"M. K. NARAYANAN (West Bengal)\", \"JAGDEEP DHANKHAR (West Bengal)\", \"BHOGRAJU PATTABHI SITARAMAIYA (Madhya Pradesh)\", \"HARI VINAYAK PATASKAR (Madhya Pradesh)\", \"P. V. DIXIT (Madhya Pradesh)\", \"KYASAMBALLI CHENGALRAO REDDY (Madhya Pradesh)\", \"SATYANARAYAN SINHA (Madhya Pradesh)\", \"G. P. SINGH (Madhya Pradesh)\", \"BHAGWAT DAYAL SHARMA (Madhya Pradesh, Odisha)\", \"N. D. OJHA (Madhya Pradesh)\", \"SARLA GREWAL (Madhya Pradesh)\", \"KUNWAR MAHMOOD ALI KHAN (Madhya Pradesh)\", \"BHAI MAHAVIR (Madhya Pradesh)\", \"RAM PRAKASH GUPTA (Madhya Pradesh)\", \"KRISHNA MOHAN SETH (Madhya Pradesh)\", \"BAL RAM JAKHAR (Madhya Pradesh)\", \"RAM NARESH YADAV (Madhya Pradesh)\", \"YESHWANT NARAYAN SUKTHANKAR (Odisha)\", \"AJUDHIA NATH KHOSLA (Odisha)\", \"SHAUKATULLAH SHAH ANSARI (Odisha)\", \"SARDAR JOGENDRA SINGH (Odisha)\", \"GATIKRUSHNA (Odisha)\", \"B.D. JATTI (Odisha, Puducherry)\", \"SIVA NARAYIN SANKAR (Odisha)\", \"HARCHARAN SINGH BRAR (Haryana, Odisha)\", \"SUKANTA KISHORE RAY (Odisha)\", \"RANGANATH MISRA (Odisha)\", \"CHEPPUDIRA MUTHANA POONACHA (Madhya Pradesh, Odisha)\", \"BISHAMBHAR NATH PANDE (Odisha)\", \"YAGYA DUTT SHARMA (Odisha)\", \"SAIYID NURUL HASAN (Odisha, West Bengal)\", \"B. SATYANARAIN REDDY (Bihar, Odisha, Uttar Pradesh)\", \"M.M. RAJENDRAN (Odisha)\", \"MURLIDHAR CHANDRAKANT BHADARE (Odisha)\", \"GANESHI LAL (Odisha)\", \"J. DAULATRAM (Assam, Bihar, Meghalaya)\", \"MADHAV HARI ANEY (Bihar)\", \"R. R. DIWAKAR (Bihar)\", \"ZAKIR HUSAIN (Bihar)\", \"M.A.S. AYYANGAR (Bihar)\", \"U.N. SINHA (Bihar)\", \"DEVKANT BAROOAH (Bihar)\", \"R.D. BHANDARE (Andhra Pradesh, Bihar)\", \"JAGANNATH KAUSHAL (Bihar)\", \"K.B.N. SINGH (Bihar)\", \"PENDEKANTI VENKATASUBBIAN (Bihar)\", \"GOVIND NARAIN SINGH (Bihar)\", \"DIPAK KUMAR SEN (Bihar)\", \"JAGANNATH PAHADIA (Bihar, Haryana)\", \"G.G. SOHONI (Bihar)\", \"MOHAMMAD YUNUS SALEEM (Bihar)\", \"B.M. LAL (Bihar)\", \"SURAJBHAN (Bihar)\", \"M. RAMA JOIS (Bihar, Jharkhand)\", \"VED MARWAH (Bihar, Jharkhand, Manipur, Mizoram)\", \"BUTA SINGH (Bihar)\", \"R. L. BHATIA (Bihar, Kerala)\", \"DNYANDEO YASHWANTRAO PATIL (Bihar, Tripura)\", \"RAM NATH KOVIND (Bihar)\", \"KENATH TRIPATHI (Bihar)\", \"LAL JI TANDON (Bihar, Madhya Pradesh)\", \"PHAGU CHAUHAN (Bihar)\", \"MARGARET ALVA (Goa, Gujarat, Rajasthan, Uttarakhand)\", \"BABY RANI MAURYA (Uttarakhand)\", \"PRABHAT KUMAR (Jharkhand)\", \"V.C. PANDEY (Jharkhand)\", \"SYED SIBTEY RAZI (Assam, Jharkhand)\", \"SYED AHMED (Jharkhand, Manipur)\", \"DROUPADI MURMU (Jharkhand)\", \"HEMAT SINGH JI (Himachal Pradesh)\", \"RAJA BAJRANG BAHADUR SINGH BHADRI (Himachal Pradesh)\", \"BHAGWAN SAHAI (Himachal Pradesh, Jammu & Kashmir)\", \"OM PARKASH (Himachal Pradesh)\", \"K BHADUR SINGH (Himachal Pradesh)\", \"S.CHAKRAVARTI (Himachal Pradesh)\", \"AMINUDDIN AHMAD KHAN (Himachal Pradesh, Punjab)\", \"A.N.BANERJEE (Himachal Pradesh)\", \"P.D.DESAI (Himachal Pradesh)\", \"R K S GHANDHI (Himachal Pradesh)\", \"S.M.H. BURNEY (Haryana, Himachal Pradesh, Manipur, Nagaland, Tripura)\", \"S H A BARARI (Himachal Pradesh)\", \"B.R.BHAGAT (Himachal Pradesh)\", \"GULSHER AHMED (Himachal Pradesh)\", \"V RATTANAM (Himachal Pradesh)\", \"SUDHAKARRAO NAIK (Himachal Pradesh)\", \"SHEILA KAUL (Himachal Pradesh)\", \"V S RAMA DEVI (Himachal Pradesh)\", \"VISHNU KANT SHASTRI (Himachal Pradesh, Uttar Pradesh)\", \"VISHNU SADASHIV KOKJE (Himachal Pradesh)\", \"URMILA SINGH (Himachal Pradesh)\", \"ACHARYA DEVVRAT (Gujarat, Himachal Pradesh)\", \"BANDARU DATTATRAYA (Himachal Pradesh)\", \"H. SAIKIA (Mizoram)\", \"K. V. KRISHNA RAO (Jammu & Kashmir, Manipur, Mizoram, Nagaland, Tripura)\", \"W.A. SANGMA (Mizoram)\", \"SWARAJ KAUSHAL (Mizoram)\", \"P.R KYNDIAH (Mizoram)\", \"SIDDHESWAR PRASAD (Mizoram, Tripura)\", \"ARUN PRASAD MUKHERJEE (Mizoram)\", \"ANANDAM PADMANABAN (Mizoram)\", \"AMOLAK RATTAN KOHLI (Mizoram)\", \"VAKKOM PURUSHOTHAMAN (Mizoram)\", \"KAMLA BENWAL (Gujarat, Mizoram, Tripura)\", \"V.K. DUGGAL (Manipur, Mizoram)\", \"AZIZ QURESHI (Mizoram, Uttar Pradesh, Uttarakhand)\", \"KESHARI NATH TRIPATHI (Bihar, Meghalaya, Mizoram, West Bengal)\", \"NIRBHAY SHARMA (Arunachal Pradesh, Mizoram)\", \"KUMMANAM RAJASEKHARAN (Mizoram)\", \"P.S. SREEDHARAN PILLAI (Mizoram)\", \"CHINTAMANI PANIGRAHI (Manipur)\", \"O.N. SHRIVASTAVA (Manipur)\", \"SHIVINDER SINGH SIDHU (Goa, Manipur, Meghalaya)\", \"GURBACHAN JAGAT (Manipur, Nagaland)\", \"NAJMA HEPTULLA (Manipur)\", \"V. SAHAY  (Assam, Meghalaya, Nagaland)\", \"L. P. SINGH (Assam, Manipur, Meghalaya, Nagaland, Tripura)\", \"M.M. THOMAS (Nagaland)\", \"LOKNATH MISRA (Arunachal Pradesh, Assam, Nagaland)\", \"V.K. NAYYAR (Manipur, Nagaland)\", \"O.N. SHRIVATSVA (Nagaland)\", \"OM PRAKASH SHARMA (Nagaland)\", \"SHYAMAL DATTA (Nagaland)\", \"K SANKARANARAYANAN (Arunachal Pradesh, Assam, Goa, Jharkhand, Maharashtra, Nagaland)\", \"NIKHIL KUMAR (Kerala, Nagaland)\", \"ASHWANI KUMAR (Manipur, Nagaland)\", \"KRISHAN KANT PAUL (Manipur, Meghalaya, Mizoram, Nagaland, Uttarakhand)\", \"P.B ACHARYA (Arunachal Pradesh, Assam, Nagaland, Tripura)\", \"R. N. RAVI (Meghalaya, Nagaland)\", \"SULTAN SINGH (Tripura)\", \"K.V. RAGHUNATHA REDDY (Manipur, Odisha, Sikkim, Tripura, West Bengal)\", \"RAMESH BHANDARI (Tripura)\", \"K.M. SETH (Tripura)\", \"D.N. SAHAYA (Tripura)\", \"DEVANAND KONWAR (Bihar, Tripura)\", \"VAKKOM PUROSHOTHAMAN (Tripura)\", \"RAMESH BAIS (Tripura)\", \"PRAKASH MEHROTRA (Assam, Meghalaya)\", \"HARIDEO JOSHI (Assam, Meghalaya)\", \"A. A. RAHIM (Meghalaya)\", \"M.M JACOB (Arunachal Pradesh, Meghalaya)\", \"R.S. MOOSHAHARY (Meghalaya)\", \"SATYA PAL MALIK (Bihar, Goa, Jammu & Kashmir, Meghalaya, Odisha)\", \"K. P. CANDETH  (Goa)\", \"T. SIVASANKAR (Goa)\", \"M. R. SACHDEV (Goa)\", \"HARI SHARMA (Goa)\", \"K. R. DAMLE (Goa)\", \"NAKUL SEN (Goa)\", \"S. K. BANERJI (Goa)\", \"P. S. GILL (Goa)\", \"I.H. LATIF (Goa, Maharashtra)\", \"BHANU PRAKASH SINGH (Goa)\", \"B. RACHAIAH (Goa, Himachal Pradesh, Kerala)\", \"G. RAMANUJAM (Andhra Pradesh, Goa, Kerala, Odisha)\", \"T. R. SATISH CHANDRAN (Goa)\", \"J. F. R. JACOB (Chandigarh, Goa, Punjab)\", \"MOHD. FAZAL (Goa, Kerala)\", \"S. C. JAMIR (Goa, Gujarat, Maharashtra, Odisha)\", \"BHARAT VIR WANCHOO (Goa)\", \"OM PRAKASH KOHLI (Goa, Gujarat, Madhya Pradesh)\", \"MRIDULA SINHA (Goa)\", \"CHANDULAL MADHAVLAL TRIVEDI (Andhra Pradesh, Punjab)\", \"BHIMSEN SACHAR (Andhra Pradesh)\", \"KHANDUBHAI KASANJI DESAI (Andhra Pradesh)\", \"S.OBUL REDDY (Andhra Pradesh)\", \"B.J. DIWAN (Andhra Pradesh)\", \"SHARADA MUKHERJEE (Andhra Pradesh)\", \"K.C. ABRAHAM (Andhra Pradesh)\", \"RAM LAL (Andhra Pradesh)\", \"KUMUDBEN MANISHANKAR JOSHI (Andhra Pradesh)\", \"SURJIT SINGH BARNALA (Andhra Pradesh, Puducherry, Tamil Nadu, Uttarakhand)\", \"SUSHILKUMAR SHINDE (Andhra Pradesh)\", \"NARAYAN DATT TIWARI (Andhra Pradesh)\", \"SRI BISWA BHUSAN HARICHANDAN (Andhra Pradesh)\", \"E.S.L. NARASIMHAN (Andhra Pradesh, Telangana)\", \"TAMILISAI SOUNDARARAJAN (Telangana)\", \"R.D. PRADHAN (Arunachal Pradesh, Bihar)\", \"GOPAL SINGH (Arunachal Pradesh, Goa, Nagaland)\", \"S.N. DWIVEDY (Arunachal Pradesh)\", \"MADHUKAR DIGHE (Arunachal Pradesh, Meghalaya)\", \"MATA PRASAD (Arunachal Pradesh)\", \"ARVIND DAVE (Arunachal Pradesh, Manipur)\", \"V.C. PANDE (Arunachal Pradesh, Bihar)\", \"S.K. SINGH (Arunachal Pradesh)\", \"J.J. SINGH (Arunachal Pradesh)\", \"J.P. RAJKHOWA (Arunachal Pradesh)\", \"TATHAGATA ROY (Arunachal Pradesh, Meghalaya, Tripura)\", \"V. SHANMUGANATHAN (Arunachal Pradesh, Manipur, Meghalaya)\", \"B. D. MISHRA  (Arunachal Pradesh)\", \"B.B. LAL (Sikkim)\", \"H. J. H. TALEYARKHAN (Sikkim)\", \"S.K. BHATNAGAR (Sikkim)\", \"R. H. TAHILIANI (Sikkim)\", \"CHAUDHARY RANDHIR SINGH (Sikkim)\", \"KIDAR NATH SAHANI (Goa, Sikkim)\", \"V. RAMA RAO (Sikkim)\", \"BALMIKI PRASAD SINGH (Sikkim)\", \"SHRINIWAS PATIL (Sikkim)\", \"GANGA PRASAD (Meghalaya, Sikkim)\", \"CHANDESHWAR PRASAD NARAYAN SINGH (Punjab, Uttar Pradesh)\", \"NARAHAR VISHNU GADGIL (Punjab)\", \"PATTOM THANU PILLAI (Andhra Pradesh, Punjab)\", \"HAFIZ MOHAMMAD IBRAHIM (Punjab)\", \"MEHAR SINGH (Punjab)\", \"D. C. PAVATE (Punjab)\", \"MAHENDRA MOHAN CHOUDHRY (Punjab)\", \"RANJIT SINGH NARULA (Haryana, Punjab)\", \"S. S. SANDHAWALIA (Haryana, Punjab)\", \"KERSHASP TEHMURASP SATARAWALA (Goa, Punjab)\", \"ARJUN SINGH (Chandigarh, Punjab)\", \"HOKISHE SEMA (Himachal Pradesh, Punjab)\", \"S. S. RAY (Chandigarh, Punjab)\", \"NIRMAL MUKARJI (Punjab)\", \"VIRENDRA VERMA (Himachal Pradesh, Punjab)\", \"O. P.MALHOTRA (Chandigarh, Punjab)\", \"SURENDRA NATH (Himachal Pradesh, Punjab)\", \"SUDHAKAR PANDITRAO KURDUKAR (Punjab)\", \"B. K. N. CHHIBBER (Chandigarh, Punjab)\", \"AKHLAQUR RAHMAN KIDWAI (Bihar, Haryana, Punjab, Rajasthan, West Bengal)\", \"S. F. RODRIGUES (Chandigarh, Punjab)\", \"KAPTAN SINGH SOLANKI (Chandigarh, Haryana, Punjab, Tripura)\", \"A.N. JHA (Delhi)\", \"M.G. PIMPUTKAR (Delhi)\", \"BALESHWAR PRASAD (Delhi)\", \"KRISHAN CHAND (Delhi)\", \"D.R. KOHLI (Delhi)\", \"P.G. GAVAI (Delhi)\", \"M.M.K. WALI (Delhi)\", \"AVM H.L. KAPUR (Delhi)\", \"ROMESH BHANDARI (Delhi, Goa, Uttar Pradesh)\", \"ACM ARJAN SINGH (Delhi)\", \"MARKANDEY SINGH (Delhi)\", \"P.K. DAVE (Delhi)\", \"TEJENDRA KHANNA (Delhi)\", \"VIJAI KAPOOR (Delhi)\", \"B. L. JOSHI (Delhi, Meghalaya, Uttar Pradesh, Uttarakhand)\", \"NAJEEB JUNG (Delhi)\", \"ANIL BAIJAL (Delhi)\", \"S.L. SILAM (Puducherry)\", \"CHHEDL LAL (Puducherry)\", \"B.T. KULKARNI (Puducherry)\", \"R.K. VYAS (Puducherry)\", \"SADIQALI (Puducherry)\", \"R.N. HALDIPUR (Puducherry)\", \"A.N. BANERJI (Puducherry)\", \"K. PRABHAKARA RAO (Maharashtra, Puducherry, Sikkim)\", \"TRIBHUVAN PRASAD TEWARY (Puducherry)\", \"RAN JIT SINGH DYAL (Puducherry)\", \"CHANDRAVATHI (Puducherry)\", \"HARSWARUP SINGH (Puducherry)\", \"RAJENDRA KUMARI BAJPAI (Puducherry)\", \"RAJANI RAI (Puducherry)\", \"K.R. MALKANI (Puducherry)\", \"P.S. RAMA MOHAN RAO (Puducherry, Tamil Nadu)\", \"NAGENDRA NATH JHA (Puducherry)\", \"MADAN MOHAN LAKHERA (Mizoram, Puducherry)\", \"MUKUT MITHI (Puducherry)\", \"BHOPINDER SINGH (Puducherry)\", \"GOVIND SINGH GURJAR (Puducherry)\", \"IQBAL SINGH (Puducherry)\", \"VIRENDRA KATARIA (Puducherry)\", \"AJAY KUMAR SINGH (Puducherry)\", \"KIRAN BEDI (Puducherry)\", \"BHAIRAB DATT PANDE (Chandigarh, Punjab, West Bengal)\", \"K. T. SATARWALA (Chandigarh)\", \"S. D. SHARMA (Chandigarh)\", \"N. N. MUKARJI (Chandigarh)\", \"VARINDER VERMA (Chandigarh)\", \"SURINDRA NATH (Chandigarh)\", \"SHIVRAJ V. PATIL (Chandigarh, Punjab, Rajasthan)\", \"V.P. SINGH BADNORE (Chandigarh, Punjab)\", \"RADHA KRISHNA MATHUR (Ladakh)\", \"KARAN SINGH (Jammu & Kashmir)\", \"J. N. WAZIR (Jammu & Kashmir)\", \"L. K. JHA (Jammu & Kashmir)\", \"B. K. NEHRU (Assam, Gujarat, Jammu & Kashmir, Manipur, Meghalaya, Nagaland, Tripura)\", \"JAGMOHAN (Delhi, Goa, Jammu & Kashmir)\", \"GIRISH CHANDRA SAXENA (Jammu & Kashmir)\", \"N. N. VOHRA (Jammu & Kashmir)\", \"MANOJ SINHA (Jammu & Kashmir)\", \"D K JOSHI (Andaman & Nicobar Islands)\", \"U.R. PANICKER (Lakshadweep)\", \"S MONY (Lakshadweep)\", \"C.K. BALAKRISHNAN NAIR (Lakshadweep)\", \"M RAMUNNY (Lakshadweep)\", \"C.H NAIRE (Lakshadweep)\", \"K.D MENON (Lakshadweep)\", \"W. SHAIZA (Lakshadweep)\", \"M.C VERMA (Lakshadweep)\", \"S.D. LAKHAR (Lakshadweep)\", \"P.M. NAIR (Lakshadweep)\", \"PARADIP MEHRA (Lakshadweep)\", \"OMESH SAIGAL (Lakshadweep)\", \"J. SAGAR (Lakshadweep)\", \"WAJAHAT HABIBULLA (Lakshadweep)\", \"PRADIP SINGH (Lakshadweep)\", \"S. P. AGGRAWAL (Dadra & Nagar Haveli, Daman & Diu, Lakshadweep)\", \"SATISH CHANDRA (Lakshadweep)\", \"G.S. CHIMA (Lakshadweep)\", \"RAJEEV TALWAR (Lakshadweep)\", \"CHAMAN LAL (Lakshadweep)\", \"R.K. VARMA (Lakshadweep)\", \"K.S. MEHRA (Lakshadweep)\", \"S.P. SINGH (Lakshadweep)\", \"PARIMAL RAI (Lakshadweep)\", \"RAJENDRA KUMAR (Lakshadweep)\", \"B.V. SELVARAJ (Lakshadweep)\", \"SATYA GOPAL (Dadra & Nagar Haveli, Daman & Diu, Lakshadweep)\", \"J.K. DADOO (Lakshadweep)\", \"AMARNATH (Lakshadweep)\", \"H.RAJESH PRASAD (Lakshadweep)\", \"VIJAY KUMAR  (Lakshadweep)\", \"FAROOQ KHAN (Lakshadweep)\", \"DINESHWAR SHARMA (Lakshadweep)\", \"K. S. BAIDWAN (Dadra & Nagar Haveli, Daman & Diu)\", \"RAMESH CHANDRA (Dadra & Nagar Haveli, Daman & Diu)\", \"SANAT KAUL (Dadra & Nagar Haveli, Daman & Diu)\", \"RAMESH NEGI (Dadra & Nagar Haveli, Daman & Diu)\", \"O. P. KELKAR (Dadra & Nagar Haveli, Daman & Diu)\", \"ARUN MATHUR (Dadra & Nagar Haveli, Daman & Diu)\", \"V. K. SINGH (Dadra & Nagar Haveli, Daman & Diu)\", \"DHARMENDRA (Dadra & Nagar Haveli, Daman & Diu)\", \"R. K. VERMA (Dadra & Nagar Haveli, Daman & Diu)\", \"NARENDRA KUMAR (Dadra & Nagar Haveli, Daman & Diu)\", \"B. S. BHALLA (Dadra & Nagar Haveli, Daman & Diu)\", \"ASHISH KUNDRA (Dadra & Nagar Haveli, Daman & Diu)\", \"VIKRAM DEV DUTT (Dadra & Nagar Haveli, Daman & Diu)\", \"PRAFUL PATEL (Dadra & Nagar Haveli, Dadra & Nagar Haveli & Daman & Diu, Daman & Diu)\"], \"type\": \"scatter\", \"x\": [1, 2, 4, 6, 7, 8, 10, 11, 14, 15, 21, 25, 28, 29, 31, 32, 33, 36, 39, 40, 41, 42, 43, 44, 45, 47, 48, 50, 51, 53, 54, 55, 62, 64, 69, 70, 71, 72, 73, 77, 80, 87, 89, 91, 92, 93, 94, 96, 97, 98, 99, 100, 102, 104, 106, 107, 110, 111, 112, 114, 115, 116, 117, 118, 119, 120, 121, 122, 125, 126, 131, 132, 135, 136, 139, 140, 141, 142, 143, 144, 145, 146, 147, 149, 150, 151, 152, 154, 155, 156, 158, 159, 160, 162, 163, 164, 165, 167, 168, 169, 170, 171, 173, 174, 175, 177, 178, 180, 184, 185, 186, 187, 189, 190, 191, 192, 193, 195, 196, 197, 198, 199, 202, 204, 205, 206, 210, 211, 212, 214, 216, 217, 218, 219, 220, 222, 224, 226, 227, 230, 232, 237, 238, 239, 240, 241, 242, 243, 244, 245, 250, 251, 252, 253, 254, 255, 259, 260, 261, 262, 263, 264, 265, 266, 267, 269, 270, 276, 277, 278, 279, 281, 282, 283, 285, 286, 287, 293, 294, 296, 298, 299, 301, 302, 303, 304, 306, 311, 312, 314, 315, 316, 317, 320, 321, 324, 326, 327, 328, 330, 331, 332, 338, 340, 343, 344, 345, 346, 347, 348, 350, 351, 352, 353, 354, 357, 358, 359, 361, 362, 363, 368, 369, 371, 372, 373, 376, 378, 380, 381, 383, 384, 388, 391, 392, 393, 396, 399, 400, 401, 402, 403, 405, 406, 407, 408, 409, 411, 412, 413, 414, 418, 419, 421, 422, 424, 426, 427, 429, 431, 433, 435, 436, 437, 438, 439, 440, 441, 442, 443, 445, 447, 448, 449, 451, 452, 453, 454, 456, 461, 464, 467, 468, 475, 476, 478, 482, 483, 484, 485, 486, 487, 488, 490, 491, 492, 493, 494, 499, 500, 501, 503, 504, 507, 508, 512, 521, 523, 524, 526, 529, 538, 539, 540, 541, 542, 543, 544, 545, 546, 550, 554, 555, 556, 559, 560, 563, 564, 567, 569, 570, 573, 574, 577, 578, 581, 582, 583, 584, 586, 590, 591, 593, 595, 596, 597, 599, 600, 603, 604, 605, 607, 608, 612, 614, 616, 617, 619, 621, 622, 623, 627, 628, 631, 632, 633, 635, 636, 637, 639, 640, 641, 642, 645, 646, 647, 648, 652, 655, 656, 657, 659, 660, 661, 662, 663, 664, 665, 668, 669, 671, 673, 674, 675, 676, 677, 681, 682, 683, 684, 685, 686, 687, 688, 689, 690, 692, 693, 694, 696, 697, 698, 699, 700, 702, 703, 705, 706, 707, 708, 710, 711, 712, 713, 714, 715, 716, 717, 718, 720, 721, 722, 723, 724, 725, 727, 729, 730, 732, 737, 739, 740, 741, 742, 744, 745, 746, 750, 752, 755, 756, 757, 758, 759, 760, 761, 762, 763, 764, 765, 766, 767, 768, 769, 770, 771, 772, 773, 774, 775, 777, 778, 779, 780, 781, 782, 783, 784, 785, 786, 787, 788, 789, 790, 791, 792, 795, 796, 797, 798, 799, 800, 801, 803, 804, 805, 806, 808], \"y\": [1540, 121, 222, 1581, 131, 110, 1208, 47, 2384, 51, 27, 17, 278, 629, 4026, 1855, 356, 1826, 1439, 1917, 1844, 1907, 1957, 1817, 2460, 1526, 232, 243, 784, 1832, 535, 1831, 3115, 1837, 715, 1981, 2348, 1473, 1107, 852, 2359, 382, 2505, 840, 54, 831, 1894, 2082, 1776, 710, 92, 243, 28, 20, 992, 1943, 797, 2306, 20, 3632, 299, 462, 2581, 1962, 1838, 1945, 718, 1933, 583, 4071, 1908, 676, 1902, 729, 2258, 177, 1826, 475, 2772, 1991, 1825, 1867, 33, 1689, 85, 1549, 209, 26, 1797, 15, 127, 695, 709, 10, 557, 528, 3825, 1765, 22, 236, 1843, 131, 291, 3389, 957, 803, 3066, 697, 1858, 2026, 522, 1253, 410, 2292, 785, 2091, 1848, 18, 1279, 8, 1978, 2617, 4736, 2807, 1620, 2716, 2230, 1828, 1125, 1833, 1969, 1840, 1887, 135, 1249, 2445, 1778, 1073, 2750, 1842, 2015, 1241, 1606, 919, 580, 4250, 172, 690, 1820, 2480, 1488, 706, 1069, 4841, 787, 1188, 603, 895, 5011, 1742, 3862, 1326, 701, 2269, 1406, 540, 4903, 200, 1837, 1967, 1618, 513, 224, 2798, 6, 2207, 2411, 60, 1971, 28, 311, 1233, 1840, 360, 58, 1825, 1826, 1872, 1916, 1328, 284, 195, 2135, 296, 1033, 33, 67, 1721, 1922, 1090, 2745, 1976, 1829, 2038, 940, 4872, 1615, 1846, 1770, 2034, 10, 734, 1473, 959, 261, 1077, 333, 4, 2161, 14, 362, 204, 47, 838, 2003, 451, 1831, 1827, 675, 103, 697, 514, 1864, 851, 445, 160, 1822, 1485, 2047, 1035, 3146, 3167, 8, 1349, 2214, 1888, 597, 39, 1400, 4491, 23, 138, 149, 19, 414, 157, 859, 1673, 1898, 1828, 1960, 470, 800, 7714, 201, 1097, 1798, 1847, 92, 943, 1893, 1041, 1753, 277, 1074, 2276, 1826, 287, 415, 1348, 1804, 2834, 1909, 1586, 5786, 14409, 704, 2903, 785, 829, 1902, 1831, 3180, 1601, 621, 2245, 2997, 551, 214, 3424, 669, 1072, 2326, 1822, 14, 514, 1920, 151, 286, 4447, 1833, 1238, 169, 451, 463, 73, 782, 2038, 1825, 1230, 1395, 1112, 2243, 1313, 92, 3102, 1091, 3959, 794, 1260, 1889, 3435, 1864, 2480, 350, 77, 467, 1826, 380, 1534, 3733, 451, 858, 519, 3540, 473, 1125, 2095, 831, 1972, 2033, 1830, 1848, 909, 1948, 435, 1909, 1078, 1178, 2063, 1255, 342, 1684, 1894, 1139, 1825, 1817, 1862, 1174, 3872, 1477, 2019, 485, 137, 2044, 1564, 162, 93, 749, 490, 1068, 2692, 188, 958, 464, 1302, 70, 3792, 6038, 3786, 2984, 1960, 95, 892, 908, 1052, 191, 376, 991, 1500, 368, 504, 1706, 2753, 2241, 3670, 1262, 1454, 1826, 1390, 1523, 267, 101, 291, 26, 942, 1359, 607, 302, 779, 1086, 1558, 453, 1678, 183, 2605, 602, 129, 257, 1444, 366, 682, 1670, 1056, 254, 127, 188, 186, 1067, 4394, 3170, 420, 2541, 61, 2795, 8962, 3426, 2881, 3709, 139, 1173, 6, 682, 1170, 1219, 1666, 1276, 760, 603, 524, 1050, 401, 1084, 791, 876, 89, 2884, 858, 644, 1034, 618, 128, 1097, 153, 627, 132, 876, 2312, 702, 480, 1082, 316, 1144, 406, 1484, 948, 118, 660, 2424, 2200, 382, 12, 1214, 1080, 1438, 1146, 336, 2823]}],                        {\"template\": {\"data\": {\"bar\": [{\"error_x\": {\"color\": \"#2a3f5f\"}, \"error_y\": {\"color\": \"#2a3f5f\"}, \"marker\": {\"line\": {\"color\": \"#E5ECF6\", \"width\": 0.5}}, \"type\": \"bar\"}], \"barpolar\": [{\"marker\": {\"line\": {\"color\": \"#E5ECF6\", \"width\": 0.5}}, \"type\": \"barpolar\"}], \"carpet\": [{\"aaxis\": {\"endlinecolor\": \"#2a3f5f\", \"gridcolor\": \"white\", \"linecolor\": \"white\", \"minorgridcolor\": \"white\", \"startlinecolor\": \"#2a3f5f\"}, \"baxis\": {\"endlinecolor\": \"#2a3f5f\", \"gridcolor\": \"white\", \"linecolor\": \"white\", \"minorgridcolor\": \"white\", \"startlinecolor\": \"#2a3f5f\"}, \"type\": \"carpet\"}], \"choropleth\": [{\"colorbar\": {\"outlinewidth\": 0, \"ticks\": \"\"}, \"type\": \"choropleth\"}], \"contour\": [{\"colorbar\": {\"outlinewidth\": 0, \"ticks\": \"\"}, \"colorscale\": [[0.0, \"#0d0887\"], [0.1111111111111111, \"#46039f\"], [0.2222222222222222, \"#7201a8\"], [0.3333333333333333, \"#9c179e\"], [0.4444444444444444, \"#bd3786\"], [0.5555555555555556, \"#d8576b\"], [0.6666666666666666, \"#ed7953\"], [0.7777777777777778, \"#fb9f3a\"], [0.8888888888888888, \"#fdca26\"], [1.0, \"#f0f921\"]], \"type\": \"contour\"}], \"contourcarpet\": [{\"colorbar\": {\"outlinewidth\": 0, \"ticks\": \"\"}, \"type\": \"contourcarpet\"}], \"heatmap\": [{\"colorbar\": {\"outlinewidth\": 0, \"ticks\": \"\"}, \"colorscale\": [[0.0, \"#0d0887\"], [0.1111111111111111, \"#46039f\"], [0.2222222222222222, \"#7201a8\"], [0.3333333333333333, \"#9c179e\"], [0.4444444444444444, \"#bd3786\"], [0.5555555555555556, \"#d8576b\"], [0.6666666666666666, \"#ed7953\"], [0.7777777777777778, \"#fb9f3a\"], [0.8888888888888888, \"#fdca26\"], [1.0, \"#f0f921\"]], \"type\": \"heatmap\"}], \"heatmapgl\": [{\"colorbar\": {\"outlinewidth\": 0, \"ticks\": \"\"}, \"colorscale\": [[0.0, \"#0d0887\"], [0.1111111111111111, \"#46039f\"], [0.2222222222222222, \"#7201a8\"], [0.3333333333333333, \"#9c179e\"], [0.4444444444444444, \"#bd3786\"], [0.5555555555555556, \"#d8576b\"], [0.6666666666666666, \"#ed7953\"], [0.7777777777777778, \"#fb9f3a\"], [0.8888888888888888, \"#fdca26\"], [1.0, \"#f0f921\"]], \"type\": \"heatmapgl\"}], \"histogram\": [{\"marker\": {\"colorbar\": {\"outlinewidth\": 0, \"ticks\": \"\"}}, \"type\": \"histogram\"}], \"histogram2d\": [{\"colorbar\": {\"outlinewidth\": 0, \"ticks\": \"\"}, \"colorscale\": [[0.0, \"#0d0887\"], [0.1111111111111111, \"#46039f\"], [0.2222222222222222, \"#7201a8\"], [0.3333333333333333, \"#9c179e\"], [0.4444444444444444, \"#bd3786\"], [0.5555555555555556, \"#d8576b\"], [0.6666666666666666, \"#ed7953\"], [0.7777777777777778, \"#fb9f3a\"], [0.8888888888888888, \"#fdca26\"], [1.0, \"#f0f921\"]], \"type\": \"histogram2d\"}], \"histogram2dcontour\": [{\"colorbar\": {\"outlinewidth\": 0, \"ticks\": \"\"}, \"colorscale\": [[0.0, \"#0d0887\"], [0.1111111111111111, \"#46039f\"], [0.2222222222222222, \"#7201a8\"], [0.3333333333333333, \"#9c179e\"], [0.4444444444444444, \"#bd3786\"], [0.5555555555555556, \"#d8576b\"], [0.6666666666666666, \"#ed7953\"], [0.7777777777777778, \"#fb9f3a\"], [0.8888888888888888, \"#fdca26\"], [1.0, \"#f0f921\"]], \"type\": \"histogram2dcontour\"}], \"mesh3d\": [{\"colorbar\": {\"outlinewidth\": 0, \"ticks\": \"\"}, \"type\": \"mesh3d\"}], \"parcoords\": [{\"line\": {\"colorbar\": {\"outlinewidth\": 0, \"ticks\": \"\"}}, \"type\": \"parcoords\"}], \"pie\": [{\"automargin\": true, \"type\": \"pie\"}], \"scatter\": [{\"marker\": {\"colorbar\": {\"outlinewidth\": 0, \"ticks\": \"\"}}, \"type\": \"scatter\"}], \"scatter3d\": [{\"line\": {\"colorbar\": {\"outlinewidth\": 0, \"ticks\": \"\"}}, \"marker\": {\"colorbar\": {\"outlinewidth\": 0, \"ticks\": \"\"}}, \"type\": \"scatter3d\"}], \"scattercarpet\": [{\"marker\": {\"colorbar\": {\"outlinewidth\": 0, \"ticks\": \"\"}}, \"type\": \"scattercarpet\"}], \"scattergeo\": [{\"marker\": {\"colorbar\": {\"outlinewidth\": 0, \"ticks\": \"\"}}, \"type\": \"scattergeo\"}], \"scattergl\": [{\"marker\": {\"colorbar\": {\"outlinewidth\": 0, \"ticks\": \"\"}}, \"type\": \"scattergl\"}], \"scattermapbox\": [{\"marker\": {\"colorbar\": {\"outlinewidth\": 0, \"ticks\": \"\"}}, \"type\": \"scattermapbox\"}], \"scatterpolar\": [{\"marker\": {\"colorbar\": {\"outlinewidth\": 0, \"ticks\": \"\"}}, \"type\": \"scatterpolar\"}], \"scatterpolargl\": [{\"marker\": {\"colorbar\": {\"outlinewidth\": 0, \"ticks\": \"\"}}, \"type\": \"scatterpolargl\"}], \"scatterternary\": [{\"marker\": {\"colorbar\": {\"outlinewidth\": 0, \"ticks\": \"\"}}, \"type\": \"scatterternary\"}], \"surface\": [{\"colorbar\": {\"outlinewidth\": 0, \"ticks\": \"\"}, \"colorscale\": [[0.0, \"#0d0887\"], [0.1111111111111111, \"#46039f\"], [0.2222222222222222, \"#7201a8\"], [0.3333333333333333, \"#9c179e\"], [0.4444444444444444, \"#bd3786\"], [0.5555555555555556, \"#d8576b\"], [0.6666666666666666, \"#ed7953\"], [0.7777777777777778, \"#fb9f3a\"], [0.8888888888888888, \"#fdca26\"], [1.0, \"#f0f921\"]], \"type\": \"surface\"}], \"table\": [{\"cells\": {\"fill\": {\"color\": \"#EBF0F8\"}, \"line\": {\"color\": \"white\"}}, \"header\": {\"fill\": {\"color\": \"#C8D4E3\"}, \"line\": {\"color\": \"white\"}}, \"type\": \"table\"}]}, \"layout\": {\"annotationdefaults\": {\"arrowcolor\": \"#2a3f5f\", \"arrowhead\": 0, \"arrowwidth\": 1}, \"autotypenumbers\": \"strict\", \"coloraxis\": {\"colorbar\": {\"outlinewidth\": 0, \"ticks\": \"\"}}, \"colorscale\": {\"diverging\": [[0, \"#8e0152\"], [0.1, \"#c51b7d\"], [0.2, \"#de77ae\"], [0.3, \"#f1b6da\"], [0.4, \"#fde0ef\"], [0.5, \"#f7f7f7\"], [0.6, \"#e6f5d0\"], [0.7, \"#b8e186\"], [0.8, \"#7fbc41\"], [0.9, \"#4d9221\"], [1, \"#276419\"]], \"sequential\": [[0.0, \"#0d0887\"], [0.1111111111111111, \"#46039f\"], [0.2222222222222222, \"#7201a8\"], [0.3333333333333333, \"#9c179e\"], [0.4444444444444444, \"#bd3786\"], [0.5555555555555556, \"#d8576b\"], [0.6666666666666666, \"#ed7953\"], [0.7777777777777778, \"#fb9f3a\"], [0.8888888888888888, \"#fdca26\"], [1.0, \"#f0f921\"]], \"sequentialminus\": [[0.0, \"#0d0887\"], [0.1111111111111111, \"#46039f\"], [0.2222222222222222, \"#7201a8\"], [0.3333333333333333, \"#9c179e\"], [0.4444444444444444, \"#bd3786\"], [0.5555555555555556, \"#d8576b\"], [0.6666666666666666, \"#ed7953\"], [0.7777777777777778, \"#fb9f3a\"], [0.8888888888888888, \"#fdca26\"], [1.0, \"#f0f921\"]]}, \"colorway\": [\"#636efa\", \"#EF553B\", \"#00cc96\", \"#ab63fa\", \"#FFA15A\", \"#19d3f3\", \"#FF6692\", \"#B6E880\", \"#FF97FF\", \"#FECB52\"], \"font\": {\"color\": \"#2a3f5f\"}, \"geo\": {\"bgcolor\": \"white\", \"lakecolor\": \"white\", \"landcolor\": \"#E5ECF6\", \"showlakes\": true, \"showland\": true, \"subunitcolor\": \"white\"}, \"hoverlabel\": {\"align\": \"left\"}, \"hovermode\": \"closest\", \"mapbox\": {\"style\": \"light\"}, \"paper_bgcolor\": \"white\", \"plot_bgcolor\": \"#E5ECF6\", \"polar\": {\"angularaxis\": {\"gridcolor\": \"white\", \"linecolor\": \"white\", \"ticks\": \"\"}, \"bgcolor\": \"#E5ECF6\", \"radialaxis\": {\"gridcolor\": \"white\", \"linecolor\": \"white\", \"ticks\": \"\"}}, \"scene\": {\"xaxis\": {\"backgroundcolor\": \"#E5ECF6\", \"gridcolor\": \"white\", \"gridwidth\": 2, \"linecolor\": \"white\", \"showbackground\": true, \"ticks\": \"\", \"zerolinecolor\": \"white\"}, \"yaxis\": {\"backgroundcolor\": \"#E5ECF6\", \"gridcolor\": \"white\", \"gridwidth\": 2, \"linecolor\": \"white\", \"showbackground\": true, \"ticks\": \"\", \"zerolinecolor\": \"white\"}, \"zaxis\": {\"backgroundcolor\": \"#E5ECF6\", \"gridcolor\": \"white\", \"gridwidth\": 2, \"linecolor\": \"white\", \"showbackground\": true, \"ticks\": \"\", \"zerolinecolor\": \"white\"}}, \"shapedefaults\": {\"line\": {\"color\": \"#2a3f5f\"}}, \"ternary\": {\"aaxis\": {\"gridcolor\": \"white\", \"linecolor\": \"white\", \"ticks\": \"\"}, \"baxis\": {\"gridcolor\": \"white\", \"linecolor\": \"white\", \"ticks\": \"\"}, \"bgcolor\": \"#E5ECF6\", \"caxis\": {\"gridcolor\": \"white\", \"linecolor\": \"white\", \"ticks\": \"\"}}, \"title\": {\"x\": 0.05}, \"xaxis\": {\"automargin\": true, \"gridcolor\": \"white\", \"linecolor\": \"white\", \"ticks\": \"\", \"title\": {\"standoff\": 15}, \"zerolinecolor\": \"white\", \"zerolinewidth\": 2}, \"yaxis\": {\"automargin\": true, \"gridcolor\": \"white\", \"linecolor\": \"white\", \"ticks\": \"\", \"title\": {\"standoff\": 15}, \"zerolinecolor\": \"white\", \"zerolinewidth\": 2}}}},                        {\"responsive\": true}                    ).then(function(){\n",
       "                            \n",
       "var gd = document.getElementById('d4eef464-9297-441a-b79b-a93a5efb4be6');\n",
       "var x = new MutationObserver(function (mutations, observer) {{\n",
       "        var display = window.getComputedStyle(gd).display;\n",
       "        if (!display || display === 'none') {{\n",
       "            console.log([gd, 'removed!']);\n",
       "            Plotly.purge(gd);\n",
       "            observer.disconnect();\n",
       "        }}\n",
       "}});\n",
       "\n",
       "// Listen for the removal of the full notebook cells\n",
       "var notebookContainer = gd.closest('#notebook-container');\n",
       "if (notebookContainer) {{\n",
       "    x.observe(notebookContainer, {childList: true});\n",
       "}}\n",
       "\n",
       "// Listen for the clearing of the current output cell\n",
       "var outputEl = gd.closest('.output');\n",
       "if (outputEl) {{\n",
       "    x.observe(outputEl, {childList: true});\n",
       "}}\n",
       "\n",
       "                        })                };                });            </script>        </div>"
      ]
     },
     "metadata": {},
     "output_type": "display_data"
    }
   ],
   "source": [
    "fig = go.Figure(data = go.Scatter(x = unique_ids, y = total_duration, text = names, hovertemplate =\n",
    "    '<b>ID</b>: %{x}<br>'+\n",
    "    '<b>Total Duration</b>: %{y} days<br>'+\n",
    "    '<b>Name</b>: %{text}<extra></extra>'))\n",
    "fig.show()"
   ]
  },
  {
   "cell_type": "code",
   "execution_count": 9,
   "metadata": {},
   "outputs": [],
   "source": [
    "# fig = go.Figure(data = go.Scatter(x = names, y = total_duration))\n",
    "# fig.show()"
   ]
  },
  {
   "cell_type": "code",
   "execution_count": 10,
   "metadata": {},
   "outputs": [
    {
     "name": "stdout",
     "output_type": "stream",
     "text": [
      "['<=100', '101-400', '401-800', '801-1200', '1201-1600', '1601-2000', '2001-4000', '4001-8000', '>8000'] [44, 71, 78, 62, 45, 100, 82, 14, 2]\n"
     ]
    }
   ],
   "source": [
    "bar_range_labels = [\"<=100\", \"101-400\", \"401-800\", \"801-1200\", \"1201-1600\", \"1601-2000\", \n",
    "                \"2001-4000\", \"4001-8000\", \">8000\"]\n",
    "range_labels = [100, 400, 800, 1200, 1600, 2000, 4000, 8000, 16000]\n",
    "\n",
    "# bar_ranges = [i for i in range(range_labels)], bar_count = []\n",
    "\n",
    "bar_count_gov = [0 * i for i in range_labels]\n",
    "\n",
    "for val in range(len(range_labels)):\n",
    "    for i in total_duration:\n",
    "        if i <= range_labels[val]:\n",
    "            bar_count_gov[val] += 1\n",
    "\n",
    "for i in range(len(bar_count_gov) - 1, 0, -1):\n",
    "    if i > 0:\n",
    "        bar_count_gov[i] -= bar_count_gov[i - 1]\n",
    "\n",
    "# add = 0\n",
    "# for i in bar_count_gov:\n",
    "#    add += i\n",
    "\n",
    "# print(bar_count_gov)\n",
    "\n",
    "print(bar_range_labels, bar_count_gov)"
   ]
  },
  {
   "cell_type": "code",
   "execution_count": 11,
   "metadata": {},
   "outputs": [
    {
     "data": {
      "application/vnd.plotly.v1+json": {
       "config": {
        "plotlyServerURL": "https://plot.ly"
       },
       "data": [
        {
         "type": "bar",
         "x": [
          "<=100",
          "101-400",
          "401-800",
          "801-1200",
          "1201-1600",
          "1601-2000",
          "2001-4000",
          "4001-8000",
          ">8000"
         ],
         "y": [
          44,
          71,
          78,
          62,
          45,
          100,
          82,
          14,
          2
         ]
        }
       ],
       "layout": {
        "template": {
         "data": {
          "bar": [
           {
            "error_x": {
             "color": "#2a3f5f"
            },
            "error_y": {
             "color": "#2a3f5f"
            },
            "marker": {
             "line": {
              "color": "#E5ECF6",
              "width": 0.5
             }
            },
            "type": "bar"
           }
          ],
          "barpolar": [
           {
            "marker": {
             "line": {
              "color": "#E5ECF6",
              "width": 0.5
             }
            },
            "type": "barpolar"
           }
          ],
          "carpet": [
           {
            "aaxis": {
             "endlinecolor": "#2a3f5f",
             "gridcolor": "white",
             "linecolor": "white",
             "minorgridcolor": "white",
             "startlinecolor": "#2a3f5f"
            },
            "baxis": {
             "endlinecolor": "#2a3f5f",
             "gridcolor": "white",
             "linecolor": "white",
             "minorgridcolor": "white",
             "startlinecolor": "#2a3f5f"
            },
            "type": "carpet"
           }
          ],
          "choropleth": [
           {
            "colorbar": {
             "outlinewidth": 0,
             "ticks": ""
            },
            "type": "choropleth"
           }
          ],
          "contour": [
           {
            "colorbar": {
             "outlinewidth": 0,
             "ticks": ""
            },
            "colorscale": [
             [
              0,
              "#0d0887"
             ],
             [
              0.1111111111111111,
              "#46039f"
             ],
             [
              0.2222222222222222,
              "#7201a8"
             ],
             [
              0.3333333333333333,
              "#9c179e"
             ],
             [
              0.4444444444444444,
              "#bd3786"
             ],
             [
              0.5555555555555556,
              "#d8576b"
             ],
             [
              0.6666666666666666,
              "#ed7953"
             ],
             [
              0.7777777777777778,
              "#fb9f3a"
             ],
             [
              0.8888888888888888,
              "#fdca26"
             ],
             [
              1,
              "#f0f921"
             ]
            ],
            "type": "contour"
           }
          ],
          "contourcarpet": [
           {
            "colorbar": {
             "outlinewidth": 0,
             "ticks": ""
            },
            "type": "contourcarpet"
           }
          ],
          "heatmap": [
           {
            "colorbar": {
             "outlinewidth": 0,
             "ticks": ""
            },
            "colorscale": [
             [
              0,
              "#0d0887"
             ],
             [
              0.1111111111111111,
              "#46039f"
             ],
             [
              0.2222222222222222,
              "#7201a8"
             ],
             [
              0.3333333333333333,
              "#9c179e"
             ],
             [
              0.4444444444444444,
              "#bd3786"
             ],
             [
              0.5555555555555556,
              "#d8576b"
             ],
             [
              0.6666666666666666,
              "#ed7953"
             ],
             [
              0.7777777777777778,
              "#fb9f3a"
             ],
             [
              0.8888888888888888,
              "#fdca26"
             ],
             [
              1,
              "#f0f921"
             ]
            ],
            "type": "heatmap"
           }
          ],
          "heatmapgl": [
           {
            "colorbar": {
             "outlinewidth": 0,
             "ticks": ""
            },
            "colorscale": [
             [
              0,
              "#0d0887"
             ],
             [
              0.1111111111111111,
              "#46039f"
             ],
             [
              0.2222222222222222,
              "#7201a8"
             ],
             [
              0.3333333333333333,
              "#9c179e"
             ],
             [
              0.4444444444444444,
              "#bd3786"
             ],
             [
              0.5555555555555556,
              "#d8576b"
             ],
             [
              0.6666666666666666,
              "#ed7953"
             ],
             [
              0.7777777777777778,
              "#fb9f3a"
             ],
             [
              0.8888888888888888,
              "#fdca26"
             ],
             [
              1,
              "#f0f921"
             ]
            ],
            "type": "heatmapgl"
           }
          ],
          "histogram": [
           {
            "marker": {
             "colorbar": {
              "outlinewidth": 0,
              "ticks": ""
             }
            },
            "type": "histogram"
           }
          ],
          "histogram2d": [
           {
            "colorbar": {
             "outlinewidth": 0,
             "ticks": ""
            },
            "colorscale": [
             [
              0,
              "#0d0887"
             ],
             [
              0.1111111111111111,
              "#46039f"
             ],
             [
              0.2222222222222222,
              "#7201a8"
             ],
             [
              0.3333333333333333,
              "#9c179e"
             ],
             [
              0.4444444444444444,
              "#bd3786"
             ],
             [
              0.5555555555555556,
              "#d8576b"
             ],
             [
              0.6666666666666666,
              "#ed7953"
             ],
             [
              0.7777777777777778,
              "#fb9f3a"
             ],
             [
              0.8888888888888888,
              "#fdca26"
             ],
             [
              1,
              "#f0f921"
             ]
            ],
            "type": "histogram2d"
           }
          ],
          "histogram2dcontour": [
           {
            "colorbar": {
             "outlinewidth": 0,
             "ticks": ""
            },
            "colorscale": [
             [
              0,
              "#0d0887"
             ],
             [
              0.1111111111111111,
              "#46039f"
             ],
             [
              0.2222222222222222,
              "#7201a8"
             ],
             [
              0.3333333333333333,
              "#9c179e"
             ],
             [
              0.4444444444444444,
              "#bd3786"
             ],
             [
              0.5555555555555556,
              "#d8576b"
             ],
             [
              0.6666666666666666,
              "#ed7953"
             ],
             [
              0.7777777777777778,
              "#fb9f3a"
             ],
             [
              0.8888888888888888,
              "#fdca26"
             ],
             [
              1,
              "#f0f921"
             ]
            ],
            "type": "histogram2dcontour"
           }
          ],
          "mesh3d": [
           {
            "colorbar": {
             "outlinewidth": 0,
             "ticks": ""
            },
            "type": "mesh3d"
           }
          ],
          "parcoords": [
           {
            "line": {
             "colorbar": {
              "outlinewidth": 0,
              "ticks": ""
             }
            },
            "type": "parcoords"
           }
          ],
          "pie": [
           {
            "automargin": true,
            "type": "pie"
           }
          ],
          "scatter": [
           {
            "marker": {
             "colorbar": {
              "outlinewidth": 0,
              "ticks": ""
             }
            },
            "type": "scatter"
           }
          ],
          "scatter3d": [
           {
            "line": {
             "colorbar": {
              "outlinewidth": 0,
              "ticks": ""
             }
            },
            "marker": {
             "colorbar": {
              "outlinewidth": 0,
              "ticks": ""
             }
            },
            "type": "scatter3d"
           }
          ],
          "scattercarpet": [
           {
            "marker": {
             "colorbar": {
              "outlinewidth": 0,
              "ticks": ""
             }
            },
            "type": "scattercarpet"
           }
          ],
          "scattergeo": [
           {
            "marker": {
             "colorbar": {
              "outlinewidth": 0,
              "ticks": ""
             }
            },
            "type": "scattergeo"
           }
          ],
          "scattergl": [
           {
            "marker": {
             "colorbar": {
              "outlinewidth": 0,
              "ticks": ""
             }
            },
            "type": "scattergl"
           }
          ],
          "scattermapbox": [
           {
            "marker": {
             "colorbar": {
              "outlinewidth": 0,
              "ticks": ""
             }
            },
            "type": "scattermapbox"
           }
          ],
          "scatterpolar": [
           {
            "marker": {
             "colorbar": {
              "outlinewidth": 0,
              "ticks": ""
             }
            },
            "type": "scatterpolar"
           }
          ],
          "scatterpolargl": [
           {
            "marker": {
             "colorbar": {
              "outlinewidth": 0,
              "ticks": ""
             }
            },
            "type": "scatterpolargl"
           }
          ],
          "scatterternary": [
           {
            "marker": {
             "colorbar": {
              "outlinewidth": 0,
              "ticks": ""
             }
            },
            "type": "scatterternary"
           }
          ],
          "surface": [
           {
            "colorbar": {
             "outlinewidth": 0,
             "ticks": ""
            },
            "colorscale": [
             [
              0,
              "#0d0887"
             ],
             [
              0.1111111111111111,
              "#46039f"
             ],
             [
              0.2222222222222222,
              "#7201a8"
             ],
             [
              0.3333333333333333,
              "#9c179e"
             ],
             [
              0.4444444444444444,
              "#bd3786"
             ],
             [
              0.5555555555555556,
              "#d8576b"
             ],
             [
              0.6666666666666666,
              "#ed7953"
             ],
             [
              0.7777777777777778,
              "#fb9f3a"
             ],
             [
              0.8888888888888888,
              "#fdca26"
             ],
             [
              1,
              "#f0f921"
             ]
            ],
            "type": "surface"
           }
          ],
          "table": [
           {
            "cells": {
             "fill": {
              "color": "#EBF0F8"
             },
             "line": {
              "color": "white"
             }
            },
            "header": {
             "fill": {
              "color": "#C8D4E3"
             },
             "line": {
              "color": "white"
             }
            },
            "type": "table"
           }
          ]
         },
         "layout": {
          "annotationdefaults": {
           "arrowcolor": "#2a3f5f",
           "arrowhead": 0,
           "arrowwidth": 1
          },
          "autotypenumbers": "strict",
          "coloraxis": {
           "colorbar": {
            "outlinewidth": 0,
            "ticks": ""
           }
          },
          "colorscale": {
           "diverging": [
            [
             0,
             "#8e0152"
            ],
            [
             0.1,
             "#c51b7d"
            ],
            [
             0.2,
             "#de77ae"
            ],
            [
             0.3,
             "#f1b6da"
            ],
            [
             0.4,
             "#fde0ef"
            ],
            [
             0.5,
             "#f7f7f7"
            ],
            [
             0.6,
             "#e6f5d0"
            ],
            [
             0.7,
             "#b8e186"
            ],
            [
             0.8,
             "#7fbc41"
            ],
            [
             0.9,
             "#4d9221"
            ],
            [
             1,
             "#276419"
            ]
           ],
           "sequential": [
            [
             0,
             "#0d0887"
            ],
            [
             0.1111111111111111,
             "#46039f"
            ],
            [
             0.2222222222222222,
             "#7201a8"
            ],
            [
             0.3333333333333333,
             "#9c179e"
            ],
            [
             0.4444444444444444,
             "#bd3786"
            ],
            [
             0.5555555555555556,
             "#d8576b"
            ],
            [
             0.6666666666666666,
             "#ed7953"
            ],
            [
             0.7777777777777778,
             "#fb9f3a"
            ],
            [
             0.8888888888888888,
             "#fdca26"
            ],
            [
             1,
             "#f0f921"
            ]
           ],
           "sequentialminus": [
            [
             0,
             "#0d0887"
            ],
            [
             0.1111111111111111,
             "#46039f"
            ],
            [
             0.2222222222222222,
             "#7201a8"
            ],
            [
             0.3333333333333333,
             "#9c179e"
            ],
            [
             0.4444444444444444,
             "#bd3786"
            ],
            [
             0.5555555555555556,
             "#d8576b"
            ],
            [
             0.6666666666666666,
             "#ed7953"
            ],
            [
             0.7777777777777778,
             "#fb9f3a"
            ],
            [
             0.8888888888888888,
             "#fdca26"
            ],
            [
             1,
             "#f0f921"
            ]
           ]
          },
          "colorway": [
           "#636efa",
           "#EF553B",
           "#00cc96",
           "#ab63fa",
           "#FFA15A",
           "#19d3f3",
           "#FF6692",
           "#B6E880",
           "#FF97FF",
           "#FECB52"
          ],
          "font": {
           "color": "#2a3f5f"
          },
          "geo": {
           "bgcolor": "white",
           "lakecolor": "white",
           "landcolor": "#E5ECF6",
           "showlakes": true,
           "showland": true,
           "subunitcolor": "white"
          },
          "hoverlabel": {
           "align": "left"
          },
          "hovermode": "closest",
          "mapbox": {
           "style": "light"
          },
          "paper_bgcolor": "white",
          "plot_bgcolor": "#E5ECF6",
          "polar": {
           "angularaxis": {
            "gridcolor": "white",
            "linecolor": "white",
            "ticks": ""
           },
           "bgcolor": "#E5ECF6",
           "radialaxis": {
            "gridcolor": "white",
            "linecolor": "white",
            "ticks": ""
           }
          },
          "scene": {
           "xaxis": {
            "backgroundcolor": "#E5ECF6",
            "gridcolor": "white",
            "gridwidth": 2,
            "linecolor": "white",
            "showbackground": true,
            "ticks": "",
            "zerolinecolor": "white"
           },
           "yaxis": {
            "backgroundcolor": "#E5ECF6",
            "gridcolor": "white",
            "gridwidth": 2,
            "linecolor": "white",
            "showbackground": true,
            "ticks": "",
            "zerolinecolor": "white"
           },
           "zaxis": {
            "backgroundcolor": "#E5ECF6",
            "gridcolor": "white",
            "gridwidth": 2,
            "linecolor": "white",
            "showbackground": true,
            "ticks": "",
            "zerolinecolor": "white"
           }
          },
          "shapedefaults": {
           "line": {
            "color": "#2a3f5f"
           }
          },
          "ternary": {
           "aaxis": {
            "gridcolor": "white",
            "linecolor": "white",
            "ticks": ""
           },
           "baxis": {
            "gridcolor": "white",
            "linecolor": "white",
            "ticks": ""
           },
           "bgcolor": "#E5ECF6",
           "caxis": {
            "gridcolor": "white",
            "linecolor": "white",
            "ticks": ""
           }
          },
          "title": {
           "x": 0.05
          },
          "xaxis": {
           "automargin": true,
           "gridcolor": "white",
           "linecolor": "white",
           "ticks": "",
           "title": {
            "standoff": 15
           },
           "zerolinecolor": "white",
           "zerolinewidth": 2
          },
          "yaxis": {
           "automargin": true,
           "gridcolor": "white",
           "linecolor": "white",
           "ticks": "",
           "title": {
            "standoff": 15
           },
           "zerolinecolor": "white",
           "zerolinewidth": 2
          }
         }
        }
       }
      },
      "text/html": [
       "<div>                            <div id=\"c8bef123-e293-4d79-af1d-99a14d467df4\" class=\"plotly-graph-div\" style=\"height:525px; width:100%;\"></div>            <script type=\"text/javascript\">                require([\"plotly\"], function(Plotly) {                    window.PLOTLYENV=window.PLOTLYENV || {};                                    if (document.getElementById(\"c8bef123-e293-4d79-af1d-99a14d467df4\")) {                    Plotly.newPlot(                        \"c8bef123-e293-4d79-af1d-99a14d467df4\",                        [{\"type\": \"bar\", \"x\": [\"<=100\", \"101-400\", \"401-800\", \"801-1200\", \"1201-1600\", \"1601-2000\", \"2001-4000\", \"4001-8000\", \">8000\"], \"y\": [44, 71, 78, 62, 45, 100, 82, 14, 2]}],                        {\"template\": {\"data\": {\"bar\": [{\"error_x\": {\"color\": \"#2a3f5f\"}, \"error_y\": {\"color\": \"#2a3f5f\"}, \"marker\": {\"line\": {\"color\": \"#E5ECF6\", \"width\": 0.5}}, \"type\": \"bar\"}], \"barpolar\": [{\"marker\": {\"line\": {\"color\": \"#E5ECF6\", \"width\": 0.5}}, \"type\": \"barpolar\"}], \"carpet\": [{\"aaxis\": {\"endlinecolor\": \"#2a3f5f\", \"gridcolor\": \"white\", \"linecolor\": \"white\", \"minorgridcolor\": \"white\", \"startlinecolor\": \"#2a3f5f\"}, \"baxis\": {\"endlinecolor\": \"#2a3f5f\", \"gridcolor\": \"white\", \"linecolor\": \"white\", \"minorgridcolor\": \"white\", \"startlinecolor\": \"#2a3f5f\"}, \"type\": \"carpet\"}], \"choropleth\": [{\"colorbar\": {\"outlinewidth\": 0, \"ticks\": \"\"}, \"type\": \"choropleth\"}], \"contour\": [{\"colorbar\": {\"outlinewidth\": 0, \"ticks\": \"\"}, \"colorscale\": [[0.0, \"#0d0887\"], [0.1111111111111111, \"#46039f\"], [0.2222222222222222, \"#7201a8\"], [0.3333333333333333, \"#9c179e\"], [0.4444444444444444, \"#bd3786\"], [0.5555555555555556, \"#d8576b\"], [0.6666666666666666, \"#ed7953\"], [0.7777777777777778, \"#fb9f3a\"], [0.8888888888888888, \"#fdca26\"], [1.0, \"#f0f921\"]], \"type\": \"contour\"}], \"contourcarpet\": [{\"colorbar\": {\"outlinewidth\": 0, \"ticks\": \"\"}, \"type\": \"contourcarpet\"}], \"heatmap\": [{\"colorbar\": {\"outlinewidth\": 0, \"ticks\": \"\"}, \"colorscale\": [[0.0, \"#0d0887\"], [0.1111111111111111, \"#46039f\"], [0.2222222222222222, \"#7201a8\"], [0.3333333333333333, \"#9c179e\"], [0.4444444444444444, \"#bd3786\"], [0.5555555555555556, \"#d8576b\"], [0.6666666666666666, \"#ed7953\"], [0.7777777777777778, \"#fb9f3a\"], [0.8888888888888888, \"#fdca26\"], [1.0, \"#f0f921\"]], \"type\": \"heatmap\"}], \"heatmapgl\": [{\"colorbar\": {\"outlinewidth\": 0, \"ticks\": \"\"}, \"colorscale\": [[0.0, \"#0d0887\"], [0.1111111111111111, \"#46039f\"], [0.2222222222222222, \"#7201a8\"], [0.3333333333333333, \"#9c179e\"], [0.4444444444444444, \"#bd3786\"], [0.5555555555555556, \"#d8576b\"], [0.6666666666666666, \"#ed7953\"], [0.7777777777777778, \"#fb9f3a\"], [0.8888888888888888, \"#fdca26\"], [1.0, \"#f0f921\"]], \"type\": \"heatmapgl\"}], \"histogram\": [{\"marker\": {\"colorbar\": {\"outlinewidth\": 0, \"ticks\": \"\"}}, \"type\": \"histogram\"}], \"histogram2d\": [{\"colorbar\": {\"outlinewidth\": 0, \"ticks\": \"\"}, \"colorscale\": [[0.0, \"#0d0887\"], [0.1111111111111111, \"#46039f\"], [0.2222222222222222, \"#7201a8\"], [0.3333333333333333, \"#9c179e\"], [0.4444444444444444, \"#bd3786\"], [0.5555555555555556, \"#d8576b\"], [0.6666666666666666, \"#ed7953\"], [0.7777777777777778, \"#fb9f3a\"], [0.8888888888888888, \"#fdca26\"], [1.0, \"#f0f921\"]], \"type\": \"histogram2d\"}], \"histogram2dcontour\": [{\"colorbar\": {\"outlinewidth\": 0, \"ticks\": \"\"}, \"colorscale\": [[0.0, \"#0d0887\"], [0.1111111111111111, \"#46039f\"], [0.2222222222222222, \"#7201a8\"], [0.3333333333333333, \"#9c179e\"], [0.4444444444444444, \"#bd3786\"], [0.5555555555555556, \"#d8576b\"], [0.6666666666666666, \"#ed7953\"], [0.7777777777777778, \"#fb9f3a\"], [0.8888888888888888, \"#fdca26\"], [1.0, \"#f0f921\"]], \"type\": \"histogram2dcontour\"}], \"mesh3d\": [{\"colorbar\": {\"outlinewidth\": 0, \"ticks\": \"\"}, \"type\": \"mesh3d\"}], \"parcoords\": [{\"line\": {\"colorbar\": {\"outlinewidth\": 0, \"ticks\": \"\"}}, \"type\": \"parcoords\"}], \"pie\": [{\"automargin\": true, \"type\": \"pie\"}], \"scatter\": [{\"marker\": {\"colorbar\": {\"outlinewidth\": 0, \"ticks\": \"\"}}, \"type\": \"scatter\"}], \"scatter3d\": [{\"line\": {\"colorbar\": {\"outlinewidth\": 0, \"ticks\": \"\"}}, \"marker\": {\"colorbar\": {\"outlinewidth\": 0, \"ticks\": \"\"}}, \"type\": \"scatter3d\"}], \"scattercarpet\": [{\"marker\": {\"colorbar\": {\"outlinewidth\": 0, \"ticks\": \"\"}}, \"type\": \"scattercarpet\"}], \"scattergeo\": [{\"marker\": {\"colorbar\": {\"outlinewidth\": 0, \"ticks\": \"\"}}, \"type\": \"scattergeo\"}], \"scattergl\": [{\"marker\": {\"colorbar\": {\"outlinewidth\": 0, \"ticks\": \"\"}}, \"type\": \"scattergl\"}], \"scattermapbox\": [{\"marker\": {\"colorbar\": {\"outlinewidth\": 0, \"ticks\": \"\"}}, \"type\": \"scattermapbox\"}], \"scatterpolar\": [{\"marker\": {\"colorbar\": {\"outlinewidth\": 0, \"ticks\": \"\"}}, \"type\": \"scatterpolar\"}], \"scatterpolargl\": [{\"marker\": {\"colorbar\": {\"outlinewidth\": 0, \"ticks\": \"\"}}, \"type\": \"scatterpolargl\"}], \"scatterternary\": [{\"marker\": {\"colorbar\": {\"outlinewidth\": 0, \"ticks\": \"\"}}, \"type\": \"scatterternary\"}], \"surface\": [{\"colorbar\": {\"outlinewidth\": 0, \"ticks\": \"\"}, \"colorscale\": [[0.0, \"#0d0887\"], [0.1111111111111111, \"#46039f\"], [0.2222222222222222, \"#7201a8\"], [0.3333333333333333, \"#9c179e\"], [0.4444444444444444, \"#bd3786\"], [0.5555555555555556, \"#d8576b\"], [0.6666666666666666, \"#ed7953\"], [0.7777777777777778, \"#fb9f3a\"], [0.8888888888888888, \"#fdca26\"], [1.0, \"#f0f921\"]], \"type\": \"surface\"}], \"table\": [{\"cells\": {\"fill\": {\"color\": \"#EBF0F8\"}, \"line\": {\"color\": \"white\"}}, \"header\": {\"fill\": {\"color\": \"#C8D4E3\"}, \"line\": {\"color\": \"white\"}}, \"type\": \"table\"}]}, \"layout\": {\"annotationdefaults\": {\"arrowcolor\": \"#2a3f5f\", \"arrowhead\": 0, \"arrowwidth\": 1}, \"autotypenumbers\": \"strict\", \"coloraxis\": {\"colorbar\": {\"outlinewidth\": 0, \"ticks\": \"\"}}, \"colorscale\": {\"diverging\": [[0, \"#8e0152\"], [0.1, \"#c51b7d\"], [0.2, \"#de77ae\"], [0.3, \"#f1b6da\"], [0.4, \"#fde0ef\"], [0.5, \"#f7f7f7\"], [0.6, \"#e6f5d0\"], [0.7, \"#b8e186\"], [0.8, \"#7fbc41\"], [0.9, \"#4d9221\"], [1, \"#276419\"]], \"sequential\": [[0.0, \"#0d0887\"], [0.1111111111111111, \"#46039f\"], [0.2222222222222222, \"#7201a8\"], [0.3333333333333333, \"#9c179e\"], [0.4444444444444444, \"#bd3786\"], [0.5555555555555556, \"#d8576b\"], [0.6666666666666666, \"#ed7953\"], [0.7777777777777778, \"#fb9f3a\"], [0.8888888888888888, \"#fdca26\"], [1.0, \"#f0f921\"]], \"sequentialminus\": [[0.0, \"#0d0887\"], [0.1111111111111111, \"#46039f\"], [0.2222222222222222, \"#7201a8\"], [0.3333333333333333, \"#9c179e\"], [0.4444444444444444, \"#bd3786\"], [0.5555555555555556, \"#d8576b\"], [0.6666666666666666, \"#ed7953\"], [0.7777777777777778, \"#fb9f3a\"], [0.8888888888888888, \"#fdca26\"], [1.0, \"#f0f921\"]]}, \"colorway\": [\"#636efa\", \"#EF553B\", \"#00cc96\", \"#ab63fa\", \"#FFA15A\", \"#19d3f3\", \"#FF6692\", \"#B6E880\", \"#FF97FF\", \"#FECB52\"], \"font\": {\"color\": \"#2a3f5f\"}, \"geo\": {\"bgcolor\": \"white\", \"lakecolor\": \"white\", \"landcolor\": \"#E5ECF6\", \"showlakes\": true, \"showland\": true, \"subunitcolor\": \"white\"}, \"hoverlabel\": {\"align\": \"left\"}, \"hovermode\": \"closest\", \"mapbox\": {\"style\": \"light\"}, \"paper_bgcolor\": \"white\", \"plot_bgcolor\": \"#E5ECF6\", \"polar\": {\"angularaxis\": {\"gridcolor\": \"white\", \"linecolor\": \"white\", \"ticks\": \"\"}, \"bgcolor\": \"#E5ECF6\", \"radialaxis\": {\"gridcolor\": \"white\", \"linecolor\": \"white\", \"ticks\": \"\"}}, \"scene\": {\"xaxis\": {\"backgroundcolor\": \"#E5ECF6\", \"gridcolor\": \"white\", \"gridwidth\": 2, \"linecolor\": \"white\", \"showbackground\": true, \"ticks\": \"\", \"zerolinecolor\": \"white\"}, \"yaxis\": {\"backgroundcolor\": \"#E5ECF6\", \"gridcolor\": \"white\", \"gridwidth\": 2, \"linecolor\": \"white\", \"showbackground\": true, \"ticks\": \"\", \"zerolinecolor\": \"white\"}, \"zaxis\": {\"backgroundcolor\": \"#E5ECF6\", \"gridcolor\": \"white\", \"gridwidth\": 2, \"linecolor\": \"white\", \"showbackground\": true, \"ticks\": \"\", \"zerolinecolor\": \"white\"}}, \"shapedefaults\": {\"line\": {\"color\": \"#2a3f5f\"}}, \"ternary\": {\"aaxis\": {\"gridcolor\": \"white\", \"linecolor\": \"white\", \"ticks\": \"\"}, \"baxis\": {\"gridcolor\": \"white\", \"linecolor\": \"white\", \"ticks\": \"\"}, \"bgcolor\": \"#E5ECF6\", \"caxis\": {\"gridcolor\": \"white\", \"linecolor\": \"white\", \"ticks\": \"\"}}, \"title\": {\"x\": 0.05}, \"xaxis\": {\"automargin\": true, \"gridcolor\": \"white\", \"linecolor\": \"white\", \"ticks\": \"\", \"title\": {\"standoff\": 15}, \"zerolinecolor\": \"white\", \"zerolinewidth\": 2}, \"yaxis\": {\"automargin\": true, \"gridcolor\": \"white\", \"linecolor\": \"white\", \"ticks\": \"\", \"title\": {\"standoff\": 15}, \"zerolinecolor\": \"white\", \"zerolinewidth\": 2}}}},                        {\"responsive\": true}                    ).then(function(){\n",
       "                            \n",
       "var gd = document.getElementById('c8bef123-e293-4d79-af1d-99a14d467df4');\n",
       "var x = new MutationObserver(function (mutations, observer) {{\n",
       "        var display = window.getComputedStyle(gd).display;\n",
       "        if (!display || display === 'none') {{\n",
       "            console.log([gd, 'removed!']);\n",
       "            Plotly.purge(gd);\n",
       "            observer.disconnect();\n",
       "        }}\n",
       "}});\n",
       "\n",
       "// Listen for the removal of the full notebook cells\n",
       "var notebookContainer = gd.closest('#notebook-container');\n",
       "if (notebookContainer) {{\n",
       "    x.observe(notebookContainer, {childList: true});\n",
       "}}\n",
       "\n",
       "// Listen for the clearing of the current output cell\n",
       "var outputEl = gd.closest('.output');\n",
       "if (outputEl) {{\n",
       "    x.observe(outputEl, {childList: true});\n",
       "}}\n",
       "\n",
       "                        })                };                });            </script>        </div>"
      ]
     },
     "metadata": {},
     "output_type": "display_data"
    }
   ],
   "source": [
    "fig = go.Figure(data = go.Bar(x = bar_range_labels, y = bar_count_gov))\n",
    "fig.show()"
   ]
  }
 ],
 "metadata": {
  "kernelspec": {
   "display_name": "Python 3",
   "language": "python",
   "name": "python3"
  },
  "language_info": {
   "codemirror_mode": {
    "name": "ipython",
    "version": 3
   },
   "file_extension": ".py",
   "mimetype": "text/x-python",
   "name": "python",
   "nbconvert_exporter": "python",
   "pygments_lexer": "ipython3",
   "version": "3.8.5"
  }
 },
 "nbformat": 4,
 "nbformat_minor": 4
}
