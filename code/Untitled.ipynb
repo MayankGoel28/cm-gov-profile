{
 "cells": [
  {
   "cell_type": "code",
   "execution_count": 1,
   "metadata": {},
   "outputs": [],
   "source": [
    "import pandas as pd\n",
    "import json\n",
    "import plotly.express as px\n",
    "import plotly.io as pio\n",
    "pio.renderers.default=\"browser\"\n",
    "\n",
    "df=pd.read_csv('../Governors Data/governors_draft_4.csv')"
   ]
  },
  {
   "cell_type": "code",
   "execution_count": 2,
   "metadata": {},
   "outputs": [],
   "source": [
    "keys=df.groupby(['state/ut'])['Gender'].value_counts(normalize=True).keys().tolist()\n",
    "values=df.groupby(['state/ut'])['Gender'].value_counts(normalize=True).tolist()\n",
    "ratio={'State':[],'Ratio':[]}\n",
    "for ptr in range(len(keys)):\n",
    "    if keys[ptr][1]=='M':\n",
    "        ratio['State'].append(keys[ptr][0])\n",
    "        ratio['Ratio'].append(1-values[ptr])"
   ]
  },
  {
   "cell_type": "code",
   "execution_count": 5,
   "metadata": {},
   "outputs": [
    {
     "name": "stdout",
     "output_type": "stream",
     "text": [
      "False\n"
     ]
    }
   ],
   "source": [
    "states=json.load(open('../Governors Data/states_india.geojson','r'))\n",
    "states['features'][1]['properties']\n",
    "state={}\n",
    "anomalies={\n",
    "    'Arunanchal Pradesh':'Arunachal Pradesh',\n",
    "    'Andaman & Nicobar Island':'Andaman & Nicobar Islands',\n",
    "    'Dadara & Nagar Havelli':'Dadra & Nagar Haveli',\n",
    "    'NCT of Delhi':'Delhi'\n",
    "}\n",
    "list_states=[]\n",
    "for f in states['features']:\n",
    "    f['id']=f['properties']['state_code']\n",
    "    s=f['properties']['st_nm']\n",
    "    if s in anomalies:\n",
    "        s=anomalies[s]\n",
    "    list_states.append(s)\n",
    "    state[s]=f['id']\n",
    "ratio=pd.DataFrame(ratio)\n",
    "ratio.drop(index=ratio[ ratio['State']=='Ladakh'].index,inplace=True)\n",
    "ratio.drop(index=ratio[ ratio['State']=='Dadra & Nagar Haveli & Daman & Diu'].index,inplace=True)\n",
    "# state['Dadra & Nagar Haveli & Daman & Diu']=state['Dadra & Nagar Haveli']\n",
    "# state['Ladakh']=state['Jammu & Kashmir']\n",
    "# print(state['Lad'])\n",
    "ratio['id']=ratio['State'].apply(lambda x: state[x])\n",
    "flag=False\n",
    "# print(ratio.iloc[0]['State'])\n",
    "# This is to check if all the states match or not \n",
    "for i in range(len(ratio.index)):\n",
    "    if ratio.iloc[i]['State'] in list_states:\n",
    "        continue\n",
    "    else: \n",
    "        flag=True\n",
    "print(flag)"
   ]
  },
  {
   "cell_type": "code",
   "execution_count": 6,
   "metadata": {},
   "outputs": [],
   "source": [
    "fig=px.choropleth(ratio,locations='id',geojson='states',color='Ratio')\n",
    "fig.show()"
   ]
  }
 ],
 "metadata": {
  "kernelspec": {
   "display_name": "Python 3",
   "language": "python",
   "name": "python3"
  },
  "language_info": {
   "codemirror_mode": {
    "name": "ipython",
    "version": 3
   },
   "file_extension": ".py",
   "mimetype": "text/x-python",
   "name": "python",
   "nbconvert_exporter": "python",
   "pygments_lexer": "ipython3",
   "version": "3.8.5"
  }
 },
 "nbformat": 4,
 "nbformat_minor": 4
}
